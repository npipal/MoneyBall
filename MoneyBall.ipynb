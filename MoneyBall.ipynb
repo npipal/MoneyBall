{
  "nbformat": 4,
  "nbformat_minor": 0,
  "metadata": {
    "colab": {
      "name": "MoneyBall.ipynb",
      "provenance": [],
      "toc_visible": true,
      "authorship_tag": "ABX9TyNMlH5xg9pqIzHr0gszLOIz",
      "include_colab_link": true
    },
    "kernelspec": {
      "name": "python3",
      "display_name": "Python 3"
    },
    "language_info": {
      "name": "python"
    }
  },
  "cells": [
    {
      "cell_type": "markdown",
      "metadata": {
        "id": "view-in-github",
        "colab_type": "text"
      },
      "source": [
        "<a href=\"https://colab.research.google.com/github/npipal/MoneyBall/blob/main/MoneyBall.ipynb\" target=\"_parent\"><img src=\"https://colab.research.google.com/assets/colab-badge.svg\" alt=\"Open In Colab\"/></a>"
      ]
    },
    {
      "cell_type": "code",
      "execution_count": 2,
      "metadata": {
        "colab": {
          "base_uri": "https://localhost:8080/",
          "height": 224
        },
        "id": "EOpAl4SHevHh",
        "outputId": "782df102-2ea2-4d1b-9990-59442b44f902"
      },
      "outputs": [
        {
          "output_type": "stream",
          "name": "stdout",
          "text": [
            "Drive already mounted at /content/drive; to attempt to forcibly remount, call drive.mount(\"/content/drive\", force_remount=True).\n"
          ]
        },
        {
          "output_type": "execute_result",
          "data": {
            "text/plain": [
              "  Team League  Year   RS   RA   W    OBP    SLG     BA  Playoffs  RankSeason  \\\n",
              "0  ARI     NL  2012  734  688  81  0.328  0.418  0.259         0         NaN   \n",
              "1  ATL     NL  2012  700  600  94  0.320  0.389  0.247         1         4.0   \n",
              "2  BAL     AL  2012  712  705  93  0.311  0.417  0.247         1         5.0   \n",
              "3  BOS     AL  2012  734  806  69  0.315  0.415  0.260         0         NaN   \n",
              "4  CHC     NL  2012  613  759  61  0.302  0.378  0.240         0         NaN   \n",
              "\n",
              "   RankPlayoffs    G   OOBP   OSLG  \n",
              "0           NaN  162  0.317  0.415  \n",
              "1           5.0  162  0.306  0.378  \n",
              "2           4.0  162  0.315  0.403  \n",
              "3           NaN  162  0.331  0.428  \n",
              "4           NaN  162  0.335  0.424  "
            ],
            "text/html": [
              "\n",
              "  <div id=\"df-240cded9-efa1-47cc-8bd5-f0368f5fc2c6\">\n",
              "    <div class=\"colab-df-container\">\n",
              "      <div>\n",
              "<style scoped>\n",
              "    .dataframe tbody tr th:only-of-type {\n",
              "        vertical-align: middle;\n",
              "    }\n",
              "\n",
              "    .dataframe tbody tr th {\n",
              "        vertical-align: top;\n",
              "    }\n",
              "\n",
              "    .dataframe thead th {\n",
              "        text-align: right;\n",
              "    }\n",
              "</style>\n",
              "<table border=\"1\" class=\"dataframe\">\n",
              "  <thead>\n",
              "    <tr style=\"text-align: right;\">\n",
              "      <th></th>\n",
              "      <th>Team</th>\n",
              "      <th>League</th>\n",
              "      <th>Year</th>\n",
              "      <th>RS</th>\n",
              "      <th>RA</th>\n",
              "      <th>W</th>\n",
              "      <th>OBP</th>\n",
              "      <th>SLG</th>\n",
              "      <th>BA</th>\n",
              "      <th>Playoffs</th>\n",
              "      <th>RankSeason</th>\n",
              "      <th>RankPlayoffs</th>\n",
              "      <th>G</th>\n",
              "      <th>OOBP</th>\n",
              "      <th>OSLG</th>\n",
              "    </tr>\n",
              "  </thead>\n",
              "  <tbody>\n",
              "    <tr>\n",
              "      <th>0</th>\n",
              "      <td>ARI</td>\n",
              "      <td>NL</td>\n",
              "      <td>2012</td>\n",
              "      <td>734</td>\n",
              "      <td>688</td>\n",
              "      <td>81</td>\n",
              "      <td>0.328</td>\n",
              "      <td>0.418</td>\n",
              "      <td>0.259</td>\n",
              "      <td>0</td>\n",
              "      <td>NaN</td>\n",
              "      <td>NaN</td>\n",
              "      <td>162</td>\n",
              "      <td>0.317</td>\n",
              "      <td>0.415</td>\n",
              "    </tr>\n",
              "    <tr>\n",
              "      <th>1</th>\n",
              "      <td>ATL</td>\n",
              "      <td>NL</td>\n",
              "      <td>2012</td>\n",
              "      <td>700</td>\n",
              "      <td>600</td>\n",
              "      <td>94</td>\n",
              "      <td>0.320</td>\n",
              "      <td>0.389</td>\n",
              "      <td>0.247</td>\n",
              "      <td>1</td>\n",
              "      <td>4.0</td>\n",
              "      <td>5.0</td>\n",
              "      <td>162</td>\n",
              "      <td>0.306</td>\n",
              "      <td>0.378</td>\n",
              "    </tr>\n",
              "    <tr>\n",
              "      <th>2</th>\n",
              "      <td>BAL</td>\n",
              "      <td>AL</td>\n",
              "      <td>2012</td>\n",
              "      <td>712</td>\n",
              "      <td>705</td>\n",
              "      <td>93</td>\n",
              "      <td>0.311</td>\n",
              "      <td>0.417</td>\n",
              "      <td>0.247</td>\n",
              "      <td>1</td>\n",
              "      <td>5.0</td>\n",
              "      <td>4.0</td>\n",
              "      <td>162</td>\n",
              "      <td>0.315</td>\n",
              "      <td>0.403</td>\n",
              "    </tr>\n",
              "    <tr>\n",
              "      <th>3</th>\n",
              "      <td>BOS</td>\n",
              "      <td>AL</td>\n",
              "      <td>2012</td>\n",
              "      <td>734</td>\n",
              "      <td>806</td>\n",
              "      <td>69</td>\n",
              "      <td>0.315</td>\n",
              "      <td>0.415</td>\n",
              "      <td>0.260</td>\n",
              "      <td>0</td>\n",
              "      <td>NaN</td>\n",
              "      <td>NaN</td>\n",
              "      <td>162</td>\n",
              "      <td>0.331</td>\n",
              "      <td>0.428</td>\n",
              "    </tr>\n",
              "    <tr>\n",
              "      <th>4</th>\n",
              "      <td>CHC</td>\n",
              "      <td>NL</td>\n",
              "      <td>2012</td>\n",
              "      <td>613</td>\n",
              "      <td>759</td>\n",
              "      <td>61</td>\n",
              "      <td>0.302</td>\n",
              "      <td>0.378</td>\n",
              "      <td>0.240</td>\n",
              "      <td>0</td>\n",
              "      <td>NaN</td>\n",
              "      <td>NaN</td>\n",
              "      <td>162</td>\n",
              "      <td>0.335</td>\n",
              "      <td>0.424</td>\n",
              "    </tr>\n",
              "  </tbody>\n",
              "</table>\n",
              "</div>\n",
              "      <button class=\"colab-df-convert\" onclick=\"convertToInteractive('df-240cded9-efa1-47cc-8bd5-f0368f5fc2c6')\"\n",
              "              title=\"Convert this dataframe to an interactive table.\"\n",
              "              style=\"display:none;\">\n",
              "        \n",
              "  <svg xmlns=\"http://www.w3.org/2000/svg\" height=\"24px\"viewBox=\"0 0 24 24\"\n",
              "       width=\"24px\">\n",
              "    <path d=\"M0 0h24v24H0V0z\" fill=\"none\"/>\n",
              "    <path d=\"M18.56 5.44l.94 2.06.94-2.06 2.06-.94-2.06-.94-.94-2.06-.94 2.06-2.06.94zm-11 1L8.5 8.5l.94-2.06 2.06-.94-2.06-.94L8.5 2.5l-.94 2.06-2.06.94zm10 10l.94 2.06.94-2.06 2.06-.94-2.06-.94-.94-2.06-.94 2.06-2.06.94z\"/><path d=\"M17.41 7.96l-1.37-1.37c-.4-.4-.92-.59-1.43-.59-.52 0-1.04.2-1.43.59L10.3 9.45l-7.72 7.72c-.78.78-.78 2.05 0 2.83L4 21.41c.39.39.9.59 1.41.59.51 0 1.02-.2 1.41-.59l7.78-7.78 2.81-2.81c.8-.78.8-2.07 0-2.86zM5.41 20L4 18.59l7.72-7.72 1.47 1.35L5.41 20z\"/>\n",
              "  </svg>\n",
              "      </button>\n",
              "      \n",
              "  <style>\n",
              "    .colab-df-container {\n",
              "      display:flex;\n",
              "      flex-wrap:wrap;\n",
              "      gap: 12px;\n",
              "    }\n",
              "\n",
              "    .colab-df-convert {\n",
              "      background-color: #E8F0FE;\n",
              "      border: none;\n",
              "      border-radius: 50%;\n",
              "      cursor: pointer;\n",
              "      display: none;\n",
              "      fill: #1967D2;\n",
              "      height: 32px;\n",
              "      padding: 0 0 0 0;\n",
              "      width: 32px;\n",
              "    }\n",
              "\n",
              "    .colab-df-convert:hover {\n",
              "      background-color: #E2EBFA;\n",
              "      box-shadow: 0px 1px 2px rgba(60, 64, 67, 0.3), 0px 1px 3px 1px rgba(60, 64, 67, 0.15);\n",
              "      fill: #174EA6;\n",
              "    }\n",
              "\n",
              "    [theme=dark] .colab-df-convert {\n",
              "      background-color: #3B4455;\n",
              "      fill: #D2E3FC;\n",
              "    }\n",
              "\n",
              "    [theme=dark] .colab-df-convert:hover {\n",
              "      background-color: #434B5C;\n",
              "      box-shadow: 0px 1px 3px 1px rgba(0, 0, 0, 0.15);\n",
              "      filter: drop-shadow(0px 1px 2px rgba(0, 0, 0, 0.3));\n",
              "      fill: #FFFFFF;\n",
              "    }\n",
              "  </style>\n",
              "\n",
              "      <script>\n",
              "        const buttonEl =\n",
              "          document.querySelector('#df-240cded9-efa1-47cc-8bd5-f0368f5fc2c6 button.colab-df-convert');\n",
              "        buttonEl.style.display =\n",
              "          google.colab.kernel.accessAllowed ? 'block' : 'none';\n",
              "\n",
              "        async function convertToInteractive(key) {\n",
              "          const element = document.querySelector('#df-240cded9-efa1-47cc-8bd5-f0368f5fc2c6');\n",
              "          const dataTable =\n",
              "            await google.colab.kernel.invokeFunction('convertToInteractive',\n",
              "                                                     [key], {});\n",
              "          if (!dataTable) return;\n",
              "\n",
              "          const docLinkHtml = 'Like what you see? Visit the ' +\n",
              "            '<a target=\"_blank\" href=https://colab.research.google.com/notebooks/data_table.ipynb>data table notebook</a>'\n",
              "            + ' to learn more about interactive tables.';\n",
              "          element.innerHTML = '';\n",
              "          dataTable['output_type'] = 'display_data';\n",
              "          await google.colab.output.renderOutput(dataTable, element);\n",
              "          const docLink = document.createElement('div');\n",
              "          docLink.innerHTML = docLinkHtml;\n",
              "          element.appendChild(docLink);\n",
              "        }\n",
              "      </script>\n",
              "    </div>\n",
              "  </div>\n",
              "  "
            ]
          },
          "metadata": {},
          "execution_count": 2
        }
      ],
      "source": [
        "from google.colab import drive\n",
        "drive.mount('/content/drive')\n",
        "\n",
        "import pandas as pd\n",
        "import matplotlib.pyplot as plt\n",
        "import seaborn as sns\n",
        "\n",
        "\n",
        "df = pd.read_csv('/content/baseball.csv')\n",
        "df.head()"
      ]
    },
    {
      "cell_type": "markdown",
      "source": [
        "#H1 Inspecting/Cleaning/Removing Data"
      ],
      "metadata": {
        "id": "r3cduMASfphf"
      }
    },
    {
      "cell_type": "code",
      "source": [
        "df.info()"
      ],
      "metadata": {
        "colab": {
          "base_uri": "https://localhost:8080/"
        },
        "id": "NWnKmIqWfrSJ",
        "outputId": "fb477e69-ba7b-4410-c5ae-b265eddb32e3"
      },
      "execution_count": 3,
      "outputs": [
        {
          "output_type": "stream",
          "name": "stdout",
          "text": [
            "<class 'pandas.core.frame.DataFrame'>\n",
            "RangeIndex: 1232 entries, 0 to 1231\n",
            "Data columns (total 15 columns):\n",
            " #   Column        Non-Null Count  Dtype  \n",
            "---  ------        --------------  -----  \n",
            " 0   Team          1232 non-null   object \n",
            " 1   League        1232 non-null   object \n",
            " 2   Year          1232 non-null   int64  \n",
            " 3   RS            1232 non-null   int64  \n",
            " 4   RA            1232 non-null   int64  \n",
            " 5   W             1232 non-null   int64  \n",
            " 6   OBP           1232 non-null   float64\n",
            " 7   SLG           1232 non-null   float64\n",
            " 8   BA            1232 non-null   float64\n",
            " 9   Playoffs      1232 non-null   int64  \n",
            " 10  RankSeason    244 non-null    float64\n",
            " 11  RankPlayoffs  244 non-null    float64\n",
            " 12  G             1232 non-null   int64  \n",
            " 13  OOBP          420 non-null    float64\n",
            " 14  OSLG          420 non-null    float64\n",
            "dtypes: float64(7), int64(6), object(2)\n",
            "memory usage: 144.5+ KB\n"
          ]
        }
      ]
    },
    {
      "cell_type": "markdown",
      "source": [
        "# Checking for Duplicate Values"
      ],
      "metadata": {
        "id": "wpCeFGDBqbjF"
      }
    },
    {
      "cell_type": "code",
      "source": [
        "df.duplicated().sum()"
      ],
      "metadata": {
        "colab": {
          "base_uri": "https://localhost:8080/"
        },
        "id": "ujp7RgNphrsC",
        "outputId": "18693d86-1225-4b21-f2d1-71c0af927334"
      },
      "execution_count": 4,
      "outputs": [
        {
          "output_type": "execute_result",
          "data": {
            "text/plain": [
              "0"
            ]
          },
          "metadata": {},
          "execution_count": 4
        }
      ]
    },
    {
      "cell_type": "markdown",
      "source": [
        "- No duplicates found no need to remove."
      ],
      "metadata": {
        "id": "Rm-U5WWth2oh"
      }
    },
    {
      "cell_type": "code",
      "source": [
        "#There are some missing data in 4 columns\n",
        "df.isna().sum()"
      ],
      "metadata": {
        "colab": {
          "base_uri": "https://localhost:8080/"
        },
        "id": "pdVE84v7h6qk",
        "outputId": "83d3131a-b789-4275-9857-1d6fe285533c"
      },
      "execution_count": 5,
      "outputs": [
        {
          "output_type": "execute_result",
          "data": {
            "text/plain": [
              "Team              0\n",
              "League            0\n",
              "Year              0\n",
              "RS                0\n",
              "RA                0\n",
              "W                 0\n",
              "OBP               0\n",
              "SLG               0\n",
              "BA                0\n",
              "Playoffs          0\n",
              "RankSeason      988\n",
              "RankPlayoffs    988\n",
              "G                 0\n",
              "OOBP            812\n",
              "OSLG            812\n",
              "dtype: int64"
            ]
          },
          "metadata": {},
          "execution_count": 5
        }
      ]
    },
    {
      "cell_type": "markdown",
      "source": [
        "- These columns with missing data are not useful for the target value. So I can remove those. "
      ],
      "metadata": {
        "id": "GCOFINeviF7O"
      }
    },
    {
      "cell_type": "markdown",
      "source": [
        "# Dropping Unnecessary Columns"
      ],
      "metadata": {
        "id": "t_lws4_EqW0f"
      }
    },
    {
      "cell_type": "code",
      "source": [
        "df = df.drop(columns = ['RankSeason', 'RankPlayoffs', 'OOBP', 'OSLG'])"
      ],
      "metadata": {
        "id": "J9uVsTAck8m5"
      },
      "execution_count": 8,
      "outputs": []
    },
    {
      "cell_type": "code",
      "source": [
        "df.info()"
      ],
      "metadata": {
        "colab": {
          "base_uri": "https://localhost:8080/"
        },
        "id": "FZ-KtG1nnkSQ",
        "outputId": "f327453b-d286-4815-8a59-a5c2832046f8"
      },
      "execution_count": 9,
      "outputs": [
        {
          "output_type": "stream",
          "name": "stdout",
          "text": [
            "<class 'pandas.core.frame.DataFrame'>\n",
            "RangeIndex: 1232 entries, 0 to 1231\n",
            "Data columns (total 11 columns):\n",
            " #   Column    Non-Null Count  Dtype  \n",
            "---  ------    --------------  -----  \n",
            " 0   Team      1232 non-null   object \n",
            " 1   League    1232 non-null   object \n",
            " 2   Year      1232 non-null   int64  \n",
            " 3   RS        1232 non-null   int64  \n",
            " 4   RA        1232 non-null   int64  \n",
            " 5   W         1232 non-null   int64  \n",
            " 6   OBP       1232 non-null   float64\n",
            " 7   SLG       1232 non-null   float64\n",
            " 8   BA        1232 non-null   float64\n",
            " 9   Playoffs  1232 non-null   int64  \n",
            " 10  G         1232 non-null   int64  \n",
            "dtypes: float64(3), int64(6), object(2)\n",
            "memory usage: 106.0+ KB\n"
          ]
        }
      ]
    },
    {
      "cell_type": "markdown",
      "source": [
        "- No missing values in this data set"
      ],
      "metadata": {
        "id": "H1CsbSmbndCK"
      }
    },
    {
      "cell_type": "markdown",
      "source": [
        "# Checking for Inconsistent Values in Numerical Columns"
      ],
      "metadata": {
        "id": "q9k8Lmm2pann"
      }
    },
    {
      "cell_type": "code",
      "source": [
        "df.describe()"
      ],
      "metadata": {
        "colab": {
          "base_uri": "https://localhost:8080/",
          "height": 300
        },
        "id": "p4zWYXeVoSkf",
        "outputId": "32b553f3-86ff-46a2-d94d-d54dd37a969a"
      },
      "execution_count": 10,
      "outputs": [
        {
          "output_type": "execute_result",
          "data": {
            "text/plain": [
              "              Year           RS           RA            W          OBP  \\\n",
              "count  1232.000000  1232.000000  1232.000000  1232.000000  1232.000000   \n",
              "mean   1988.957792   715.081981   715.081981    80.904221     0.326331   \n",
              "std      14.819625    91.534294    93.079933    11.458139     0.015013   \n",
              "min    1962.000000   463.000000   472.000000    40.000000     0.277000   \n",
              "25%    1976.750000   652.000000   649.750000    73.000000     0.317000   \n",
              "50%    1989.000000   711.000000   709.000000    81.000000     0.326000   \n",
              "75%    2002.000000   775.000000   774.250000    89.000000     0.337000   \n",
              "max    2012.000000  1009.000000  1103.000000   116.000000     0.373000   \n",
              "\n",
              "               SLG           BA     Playoffs            G  \n",
              "count  1232.000000  1232.000000  1232.000000  1232.000000  \n",
              "mean      0.397342     0.259273     0.198052   161.918831  \n",
              "std       0.033267     0.012907     0.398693     0.624365  \n",
              "min       0.301000     0.214000     0.000000   158.000000  \n",
              "25%       0.375000     0.251000     0.000000   162.000000  \n",
              "50%       0.396000     0.260000     0.000000   162.000000  \n",
              "75%       0.421000     0.268000     0.000000   162.000000  \n",
              "max       0.491000     0.294000     1.000000   165.000000  "
            ],
            "text/html": [
              "\n",
              "  <div id=\"df-6354f353-d631-4d76-b71b-e2aa573a87e9\">\n",
              "    <div class=\"colab-df-container\">\n",
              "      <div>\n",
              "<style scoped>\n",
              "    .dataframe tbody tr th:only-of-type {\n",
              "        vertical-align: middle;\n",
              "    }\n",
              "\n",
              "    .dataframe tbody tr th {\n",
              "        vertical-align: top;\n",
              "    }\n",
              "\n",
              "    .dataframe thead th {\n",
              "        text-align: right;\n",
              "    }\n",
              "</style>\n",
              "<table border=\"1\" class=\"dataframe\">\n",
              "  <thead>\n",
              "    <tr style=\"text-align: right;\">\n",
              "      <th></th>\n",
              "      <th>Year</th>\n",
              "      <th>RS</th>\n",
              "      <th>RA</th>\n",
              "      <th>W</th>\n",
              "      <th>OBP</th>\n",
              "      <th>SLG</th>\n",
              "      <th>BA</th>\n",
              "      <th>Playoffs</th>\n",
              "      <th>G</th>\n",
              "    </tr>\n",
              "  </thead>\n",
              "  <tbody>\n",
              "    <tr>\n",
              "      <th>count</th>\n",
              "      <td>1232.000000</td>\n",
              "      <td>1232.000000</td>\n",
              "      <td>1232.000000</td>\n",
              "      <td>1232.000000</td>\n",
              "      <td>1232.000000</td>\n",
              "      <td>1232.000000</td>\n",
              "      <td>1232.000000</td>\n",
              "      <td>1232.000000</td>\n",
              "      <td>1232.000000</td>\n",
              "    </tr>\n",
              "    <tr>\n",
              "      <th>mean</th>\n",
              "      <td>1988.957792</td>\n",
              "      <td>715.081981</td>\n",
              "      <td>715.081981</td>\n",
              "      <td>80.904221</td>\n",
              "      <td>0.326331</td>\n",
              "      <td>0.397342</td>\n",
              "      <td>0.259273</td>\n",
              "      <td>0.198052</td>\n",
              "      <td>161.918831</td>\n",
              "    </tr>\n",
              "    <tr>\n",
              "      <th>std</th>\n",
              "      <td>14.819625</td>\n",
              "      <td>91.534294</td>\n",
              "      <td>93.079933</td>\n",
              "      <td>11.458139</td>\n",
              "      <td>0.015013</td>\n",
              "      <td>0.033267</td>\n",
              "      <td>0.012907</td>\n",
              "      <td>0.398693</td>\n",
              "      <td>0.624365</td>\n",
              "    </tr>\n",
              "    <tr>\n",
              "      <th>min</th>\n",
              "      <td>1962.000000</td>\n",
              "      <td>463.000000</td>\n",
              "      <td>472.000000</td>\n",
              "      <td>40.000000</td>\n",
              "      <td>0.277000</td>\n",
              "      <td>0.301000</td>\n",
              "      <td>0.214000</td>\n",
              "      <td>0.000000</td>\n",
              "      <td>158.000000</td>\n",
              "    </tr>\n",
              "    <tr>\n",
              "      <th>25%</th>\n",
              "      <td>1976.750000</td>\n",
              "      <td>652.000000</td>\n",
              "      <td>649.750000</td>\n",
              "      <td>73.000000</td>\n",
              "      <td>0.317000</td>\n",
              "      <td>0.375000</td>\n",
              "      <td>0.251000</td>\n",
              "      <td>0.000000</td>\n",
              "      <td>162.000000</td>\n",
              "    </tr>\n",
              "    <tr>\n",
              "      <th>50%</th>\n",
              "      <td>1989.000000</td>\n",
              "      <td>711.000000</td>\n",
              "      <td>709.000000</td>\n",
              "      <td>81.000000</td>\n",
              "      <td>0.326000</td>\n",
              "      <td>0.396000</td>\n",
              "      <td>0.260000</td>\n",
              "      <td>0.000000</td>\n",
              "      <td>162.000000</td>\n",
              "    </tr>\n",
              "    <tr>\n",
              "      <th>75%</th>\n",
              "      <td>2002.000000</td>\n",
              "      <td>775.000000</td>\n",
              "      <td>774.250000</td>\n",
              "      <td>89.000000</td>\n",
              "      <td>0.337000</td>\n",
              "      <td>0.421000</td>\n",
              "      <td>0.268000</td>\n",
              "      <td>0.000000</td>\n",
              "      <td>162.000000</td>\n",
              "    </tr>\n",
              "    <tr>\n",
              "      <th>max</th>\n",
              "      <td>2012.000000</td>\n",
              "      <td>1009.000000</td>\n",
              "      <td>1103.000000</td>\n",
              "      <td>116.000000</td>\n",
              "      <td>0.373000</td>\n",
              "      <td>0.491000</td>\n",
              "      <td>0.294000</td>\n",
              "      <td>1.000000</td>\n",
              "      <td>165.000000</td>\n",
              "    </tr>\n",
              "  </tbody>\n",
              "</table>\n",
              "</div>\n",
              "      <button class=\"colab-df-convert\" onclick=\"convertToInteractive('df-6354f353-d631-4d76-b71b-e2aa573a87e9')\"\n",
              "              title=\"Convert this dataframe to an interactive table.\"\n",
              "              style=\"display:none;\">\n",
              "        \n",
              "  <svg xmlns=\"http://www.w3.org/2000/svg\" height=\"24px\"viewBox=\"0 0 24 24\"\n",
              "       width=\"24px\">\n",
              "    <path d=\"M0 0h24v24H0V0z\" fill=\"none\"/>\n",
              "    <path d=\"M18.56 5.44l.94 2.06.94-2.06 2.06-.94-2.06-.94-.94-2.06-.94 2.06-2.06.94zm-11 1L8.5 8.5l.94-2.06 2.06-.94-2.06-.94L8.5 2.5l-.94 2.06-2.06.94zm10 10l.94 2.06.94-2.06 2.06-.94-2.06-.94-.94-2.06-.94 2.06-2.06.94z\"/><path d=\"M17.41 7.96l-1.37-1.37c-.4-.4-.92-.59-1.43-.59-.52 0-1.04.2-1.43.59L10.3 9.45l-7.72 7.72c-.78.78-.78 2.05 0 2.83L4 21.41c.39.39.9.59 1.41.59.51 0 1.02-.2 1.41-.59l7.78-7.78 2.81-2.81c.8-.78.8-2.07 0-2.86zM5.41 20L4 18.59l7.72-7.72 1.47 1.35L5.41 20z\"/>\n",
              "  </svg>\n",
              "      </button>\n",
              "      \n",
              "  <style>\n",
              "    .colab-df-container {\n",
              "      display:flex;\n",
              "      flex-wrap:wrap;\n",
              "      gap: 12px;\n",
              "    }\n",
              "\n",
              "    .colab-df-convert {\n",
              "      background-color: #E8F0FE;\n",
              "      border: none;\n",
              "      border-radius: 50%;\n",
              "      cursor: pointer;\n",
              "      display: none;\n",
              "      fill: #1967D2;\n",
              "      height: 32px;\n",
              "      padding: 0 0 0 0;\n",
              "      width: 32px;\n",
              "    }\n",
              "\n",
              "    .colab-df-convert:hover {\n",
              "      background-color: #E2EBFA;\n",
              "      box-shadow: 0px 1px 2px rgba(60, 64, 67, 0.3), 0px 1px 3px 1px rgba(60, 64, 67, 0.15);\n",
              "      fill: #174EA6;\n",
              "    }\n",
              "\n",
              "    [theme=dark] .colab-df-convert {\n",
              "      background-color: #3B4455;\n",
              "      fill: #D2E3FC;\n",
              "    }\n",
              "\n",
              "    [theme=dark] .colab-df-convert:hover {\n",
              "      background-color: #434B5C;\n",
              "      box-shadow: 0px 1px 3px 1px rgba(0, 0, 0, 0.15);\n",
              "      filter: drop-shadow(0px 1px 2px rgba(0, 0, 0, 0.3));\n",
              "      fill: #FFFFFF;\n",
              "    }\n",
              "  </style>\n",
              "\n",
              "      <script>\n",
              "        const buttonEl =\n",
              "          document.querySelector('#df-6354f353-d631-4d76-b71b-e2aa573a87e9 button.colab-df-convert');\n",
              "        buttonEl.style.display =\n",
              "          google.colab.kernel.accessAllowed ? 'block' : 'none';\n",
              "\n",
              "        async function convertToInteractive(key) {\n",
              "          const element = document.querySelector('#df-6354f353-d631-4d76-b71b-e2aa573a87e9');\n",
              "          const dataTable =\n",
              "            await google.colab.kernel.invokeFunction('convertToInteractive',\n",
              "                                                     [key], {});\n",
              "          if (!dataTable) return;\n",
              "\n",
              "          const docLinkHtml = 'Like what you see? Visit the ' +\n",
              "            '<a target=\"_blank\" href=https://colab.research.google.com/notebooks/data_table.ipynb>data table notebook</a>'\n",
              "            + ' to learn more about interactive tables.';\n",
              "          element.innerHTML = '';\n",
              "          dataTable['output_type'] = 'display_data';\n",
              "          await google.colab.output.renderOutput(dataTable, element);\n",
              "          const docLink = document.createElement('div');\n",
              "          docLink.innerHTML = docLinkHtml;\n",
              "          element.appendChild(docLink);\n",
              "        }\n",
              "      </script>\n",
              "    </div>\n",
              "  </div>\n",
              "  "
            ]
          },
          "metadata": {},
          "execution_count": 10
        }
      ]
    },
    {
      "cell_type": "markdown",
      "source": [
        "- I did not see any values that need to be fixed. They all appear to have plausible values."
      ],
      "metadata": {
        "id": "M9Y0yy24pH_1"
      }
    },
    {
      "cell_type": "markdown",
      "source": [
        "# Checking for Inconsistent Values in Object Columns"
      ],
      "metadata": {
        "id": "F2jG0Xe5qg-h"
      }
    },
    {
      "cell_type": "code",
      "source": [
        "dtypes = df.dtypes\n",
        "str_cols = dtypes[dtypes=='object'].index\n",
        "str_cols"
      ],
      "metadata": {
        "colab": {
          "base_uri": "https://localhost:8080/"
        },
        "id": "hnJ6YQFIryBH",
        "outputId": "bb95c386-5d0d-42b9-84d0-fc9344f83e2d"
      },
      "execution_count": 11,
      "outputs": [
        {
          "output_type": "execute_result",
          "data": {
            "text/plain": [
              "Index(['Team', 'League'], dtype='object')"
            ]
          },
          "metadata": {},
          "execution_count": 11
        }
      ]
    },
    {
      "cell_type": "code",
      "source": [
        "for col in str_cols:\n",
        "    print(f\"- Column= {col}\")\n",
        "    print(df[col].value_counts(dropna=False))\n",
        "    print('\\n\\n')"
      ],
      "metadata": {
        "id": "j1lwVEaZr6UI"
      },
      "execution_count": null,
      "outputs": []
    },
    {
      "cell_type": "markdown",
      "source": [
        "- I do not see any inconsistent values in the object columns. "
      ],
      "metadata": {
        "id": "3ZTUYcbkr_SS"
      }
    },
    {
      "cell_type": "markdown",
      "source": [
        "# Exploring Univariate Visuals for Target (Playoffs) and all Feature Columns"
      ],
      "metadata": {
        "id": "MIrjsVhRsJ11"
      }
    },
    {
      "cell_type": "code",
      "source": [
        "df.info()"
      ],
      "metadata": {
        "colab": {
          "base_uri": "https://localhost:8080/"
        },
        "id": "wgDB-PXRxy1m",
        "outputId": "7e265812-1bbb-4672-a0fa-157a0095ea23"
      },
      "execution_count": 19,
      "outputs": [
        {
          "output_type": "stream",
          "name": "stdout",
          "text": [
            "<class 'pandas.core.frame.DataFrame'>\n",
            "RangeIndex: 1232 entries, 0 to 1231\n",
            "Data columns (total 11 columns):\n",
            " #   Column    Non-Null Count  Dtype  \n",
            "---  ------    --------------  -----  \n",
            " 0   Team      1232 non-null   object \n",
            " 1   League    1232 non-null   object \n",
            " 2   Year      1232 non-null   int64  \n",
            " 3   RS        1232 non-null   int64  \n",
            " 4   RA        1232 non-null   int64  \n",
            " 5   W         1232 non-null   int64  \n",
            " 6   OBP       1232 non-null   float64\n",
            " 7   SLG       1232 non-null   float64\n",
            " 8   BA        1232 non-null   float64\n",
            " 9   Playoffs  1232 non-null   int64  \n",
            " 10  G         1232 non-null   int64  \n",
            "dtypes: float64(3), int64(6), object(2)\n",
            "memory usage: 106.0+ KB\n"
          ]
        }
      ]
    },
    {
      "cell_type": "code",
      "source": [
        "df['Team'].value_counts().plot(kind='bar');"
      ],
      "metadata": {
        "colab": {
          "base_uri": "https://localhost:8080/",
          "height": 280
        },
        "id": "5pvir2nesSUM",
        "outputId": "21add844-537d-4a68-d5bc-3933c5a375af"
      },
      "execution_count": 18,
      "outputs": [
        {
          "output_type": "display_data",
          "data": {
            "text/plain": [
              "<Figure size 432x288 with 1 Axes>"
            ],
            "image/png": "[encoded data removed]"
          },
          "metadata": {
            "needs_background": "light"
          }
        }
      ]
    },
    {
      "cell_type": "markdown",
      "source": [
        "- Not seeing any outliers. A few teams that have less than 10 years but those teams were either relocated or renamed"
      ],
      "metadata": {
        "id": "7WYwyo2UyBAK"
      }
    },
    {
      "cell_type": "code",
      "source": [
        "df['League'].value_counts().plot(kind='bar');"
      ],
      "metadata": {
        "colab": {
          "base_uri": "https://localhost:8080/",
          "height": 268
        },
        "id": "QLzuHib4x143",
        "outputId": "f4a0e95c-bd6e-4c83-eecf-2417fdba953b"
      },
      "execution_count": 21,
      "outputs": [
        {
          "output_type": "display_data",
          "data": {
            "text/plain": [
              "<Figure size 432x288 with 1 Axes>"
            ],
            "image/png": "[encoded data removed]"
          },
          "metadata": {
            "needs_background": "light"
          }
        }
      ]
    },
    {
      "cell_type": "code",
      "source": [
        "df.boxplot(column='RS')"
      ],
      "metadata": {
        "colab": {
          "base_uri": "https://localhost:8080/",
          "height": 282
        },
        "id": "ce1OPfJnyAEa",
        "outputId": "8351811b-0947-4844-ab19-bb552f0a8611"
      },
      "execution_count": 22,
      "outputs": [
        {
          "output_type": "execute_result",
          "data": {
            "text/plain": [
              "<matplotlib.axes._subplots.AxesSubplot at 0x7f130c3d9e10>"
            ]
          },
          "metadata": {},
          "execution_count": 22
        },
        {
          "output_type": "display_data",
          "data": {
            "text/plain": [
              "<Figure size 432x288 with 1 Axes>"
            ],
            "image/png": "[encoded data removed]"
          },
          "metadata": {
            "needs_background": "light"
          }
        }
      ]
    },
    {
      "cell_type": "markdown",
      "source": [
        "- A couple of outliers in the data for Runs Scored but everything is plausible"
      ],
      "metadata": {
        "id": "EWpDaIEW1Ayv"
      }
    },
    {
      "cell_type": "code",
      "source": [
        "df.boxplot(column='RA')"
      ],
      "metadata": {
        "colab": {
          "base_uri": "https://localhost:8080/",
          "height": 282
        },
        "id": "bSiL5o43z1F1",
        "outputId": "68c5e701-e5f9-4dc9-eb83-07d6faaee008"
      },
      "execution_count": 23,
      "outputs": [
        {
          "output_type": "execute_result",
          "data": {
            "text/plain": [
              "<matplotlib.axes._subplots.AxesSubplot at 0x7f130c379ed0>"
            ]
          },
          "metadata": {},
          "execution_count": 23
        },
        {
          "output_type": "display_data",
          "data": {
            "text/plain": [
              "<Figure size 432x288 with 1 Axes>"
            ],
            "image/png": "[encoded data removed]"
          },
          "metadata": {
            "needs_background": "light"
          }
        }
      ]
    },
    {
      "cell_type": "markdown",
      "source": [
        "- A couple of outliers in the data for Runs Allowed but everything is plausible"
      ],
      "metadata": {
        "id": "Ny5rVuOX1JCX"
      }
    },
    {
      "cell_type": "code",
      "source": [
        "df.boxplot(column='W')"
      ],
      "metadata": {
        "colab": {
          "base_uri": "https://localhost:8080/",
          "height": 282
        },
        "id": "RvXlKZPbz1iO",
        "outputId": "82f3f549-09f7-46a8-fb0e-fa9ae84c07e3"
      },
      "execution_count": 24,
      "outputs": [
        {
          "output_type": "execute_result",
          "data": {
            "text/plain": [
              "<matplotlib.axes._subplots.AxesSubplot at 0x7f130c2e0d10>"
            ]
          },
          "metadata": {},
          "execution_count": 24
        },
        {
          "output_type": "display_data",
          "data": {
            "text/plain": [
              "<Figure size 432x288 with 1 Axes>"
            ],
            "image/png": "[encoded data removed]"
          },
          "metadata": {
            "needs_background": "light"
          }
        }
      ]
    },
    {
      "cell_type": "markdown",
      "source": [
        "- A couple of outliers in the data for Wins but everything is plausible"
      ],
      "metadata": {
        "id": "p60Dww5J1j9Y"
      }
    },
    {
      "cell_type": "code",
      "source": [
        "df.boxplot(column='OBP')"
      ],
      "metadata": {
        "colab": {
          "base_uri": "https://localhost:8080/",
          "height": 282
        },
        "id": "I8ZpSvWAz10i",
        "outputId": "827601e1-7955-43fa-e4df-36bf83929c19"
      },
      "execution_count": 25,
      "outputs": [
        {
          "output_type": "execute_result",
          "data": {
            "text/plain": [
              "<matplotlib.axes._subplots.AxesSubplot at 0x7f130c255390>"
            ]
          },
          "metadata": {},
          "execution_count": 25
        },
        {
          "output_type": "display_data",
          "data": {
            "text/plain": [
              "<Figure size 432x288 with 1 Axes>"
            ],
            "image/png": "[encoded data removed]"
          },
          "metadata": {
            "needs_background": "light"
          }
        }
      ]
    },
    {
      "cell_type": "markdown",
      "source": [
        "- Some outliers in the data for On-Base-Percentage but everything is plausible"
      ],
      "metadata": {
        "id": "02-mCnMa7qKT"
      }
    },
    {
      "cell_type": "code",
      "source": [
        "df.boxplot(column='SLG')"
      ],
      "metadata": {
        "colab": {
          "base_uri": "https://localhost:8080/",
          "height": 286
        },
        "id": "IiSx-tmZz2h_",
        "outputId": "987442f3-db62-4dfe-816f-7d2c9f47ff64"
      },
      "execution_count": 27,
      "outputs": [
        {
          "output_type": "execute_result",
          "data": {
            "text/plain": [
              "<matplotlib.axes._subplots.AxesSubplot at 0x7f130c376a50>"
            ]
          },
          "metadata": {},
          "execution_count": 27
        },
        {
          "output_type": "display_data",
          "data": {
            "text/plain": [
              "<Figure size 432x288 with 1 Axes>"
            ],
            "image/png": "[encoded data removed]"
          },
          "metadata": {
            "needs_background": "light"
          }
        }
      ]
    },
    {
      "cell_type": "markdown",
      "source": [
        "- A couple of outliers in the data for Slugging Percentage but everything is plausible"
      ],
      "metadata": {
        "id": "J6z_osVO7nA4"
      }
    },
    {
      "cell_type": "code",
      "source": [
        "df.boxplot(column='BA')"
      ],
      "metadata": {
        "colab": {
          "base_uri": "https://localhost:8080/",
          "height": 282
        },
        "id": "_mFUxw6Cz2y6",
        "outputId": "87a26a6e-1457-4eb8-92ae-59097071372a"
      },
      "execution_count": 28,
      "outputs": [
        {
          "output_type": "execute_result",
          "data": {
            "text/plain": [
              "<matplotlib.axes._subplots.AxesSubplot at 0x7f130c0dbf90>"
            ]
          },
          "metadata": {},
          "execution_count": 28
        },
        {
          "output_type": "display_data",
          "data": {
            "text/plain": [
              "<Figure size 432x288 with 1 Axes>"
            ],
            "image/png": "[encoded data removed]"
          },
          "metadata": {
            "needs_background": "light"
          }
        }
      ]
    },
    {
      "cell_type": "markdown",
      "source": [
        "- Some outliers in the data for Batting Average but everything is plausible"
      ],
      "metadata": {
        "id": "spI2rBnC7i9V"
      }
    },
    {
      "cell_type": "code",
      "source": [
        "df.boxplot(column='G')"
      ],
      "metadata": {
        "colab": {
          "base_uri": "https://localhost:8080/",
          "height": 282
        },
        "id": "N6T8AQE-z3T-",
        "outputId": "de67af99-a4f8-4fbb-dbce-4121a9d8a407"
      },
      "execution_count": 30,
      "outputs": [
        {
          "output_type": "execute_result",
          "data": {
            "text/plain": [
              "<matplotlib.axes._subplots.AxesSubplot at 0x7f130c3e0e90>"
            ]
          },
          "metadata": {},
          "execution_count": 30
        },
        {
          "output_type": "display_data",
          "data": {
            "text/plain": [
              "<Figure size 432x288 with 1 Axes>"
            ],
            "image/png": "[encoded data removed]"
          },
          "metadata": {
            "needs_background": "light"
          }
        }
      ]
    },
    {
      "cell_type": "markdown",
      "source": [
        "- A couple of outliers in the data for Games but everything is plausible"
      ],
      "metadata": {
        "id": "KpWEWJa_7gHT"
      }
    },
    {
      "cell_type": "code",
      "source": [
        "corr = df.corr()\n",
        "\n",
        "sns.heatmap(corr, annot = True);"
      ],
      "metadata": {
        "colab": {
          "base_uri": "https://localhost:8080/",
          "height": 269
        },
        "id": "VJdNZ-d88CA1",
        "outputId": "e2995beb-dbfa-43a6-ad47-cc417a17e3ef"
      },
      "execution_count": 31,
      "outputs": [
        {
          "output_type": "display_data",
          "data": {
            "text/plain": [
              "<Figure size 432x288 with 2 Axes>"
            ],
            "image/png": "[encoded data removed]"
          },
          "metadata": {
            "needs_background": "light"
          }
        }
      ]
    },
    {
      "cell_type": "markdown",
      "source": [
        "- Strong relationship between Playoffs (target) with (features) RS, Wins, OBP, SLG and BA.\n",
        "- Strong relationship between RS, SLG, OBP, Wins, BA "
      ],
      "metadata": {
        "id": "gYsiIQk9-1VW"
      }
    }
  ]
}