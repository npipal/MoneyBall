{
  "nbformat": 4,
  "nbformat_minor": 0,
  "metadata": {
    "colab": {
      "name": "MoneyBall.ipynb",
      "provenance": [],
      "collapsed_sections": [],
      "mount_file_id": "15U4C8lQs8iEy3rEcbCgrZ3tFwsZKzKZx",
      "authorship_tag": "ABX9TyMNqVlOT+lO9bcTK3LHIeDh",
      "include_colab_link": true
    },
    "kernelspec": {
      "name": "python3",
      "display_name": "Python 3"
    },
    "language_info": {
      "name": "python"
    }
  },
  "cells": [
    {
      "cell_type": "markdown",
      "metadata": {
        "id": "view-in-github",
        "colab_type": "text"
      },
      "source": [
        "<a href=\"https://colab.research.google.com/github/npipal/MoneyBall/blob/main/MoneyBall.ipynb\" target=\"_parent\"><img src=\"https://colab.research.google.com/assets/colab-badge.svg\" alt=\"Open In Colab\"/></a>"
      ]
    },
    {
      "cell_type": "code",
      "execution_count": 84,
      "metadata": {
        "colab": {
          "base_uri": "https://localhost:8080/",
          "height": 224
        },
        "id": "EOpAl4SHevHh",
        "outputId": "23301fa7-13ce-4a57-81eb-16ccaebc2e25"
      },
      "outputs": [
        {
          "output_type": "stream",
          "name": "stdout",
          "text": [
            "Drive already mounted at /content/drive; to attempt to forcibly remount, call drive.mount(\"/content/drive\", force_remount=True).\n"
          ]
        },
        {
          "output_type": "execute_result",
          "data": {
            "text/plain": [
              "  Team League  Year   RS   RA   W    OBP    SLG     BA  Playoffs  RankSeason  \\\n",
              "0  ARI     NL  2012  734  688  81  0.328  0.418  0.259         0         NaN   \n",
              "1  ATL     NL  2012  700  600  94  0.320  0.389  0.247         1         4.0   \n",
              "2  BAL     AL  2012  712  705  93  0.311  0.417  0.247         1         5.0   \n",
              "3  BOS     AL  2012  734  806  69  0.315  0.415  0.260         0         NaN   \n",
              "4  CHC     NL  2012  613  759  61  0.302  0.378  0.240         0         NaN   \n",
              "\n",
              "   RankPlayoffs    G   OOBP   OSLG  \n",
              "0           NaN  162  0.317  0.415  \n",
              "1           5.0  162  0.306  0.378  \n",
              "2           4.0  162  0.315  0.403  \n",
              "3           NaN  162  0.331  0.428  \n",
              "4           NaN  162  0.335  0.424  "
            ],
            "text/html": [
              "\n",
              "  <div id=\"df-9842957b-e73f-4025-b941-270194baaddb\">\n",
              "    <div class=\"colab-df-container\">\n",
              "      <div>\n",
              "<style scoped>\n",
              "    .dataframe tbody tr th:only-of-type {\n",
              "        vertical-align: middle;\n",
              "    }\n",
              "\n",
              "    .dataframe tbody tr th {\n",
              "        vertical-align: top;\n",
              "    }\n",
              "\n",
              "    .dataframe thead th {\n",
              "        text-align: right;\n",
              "    }\n",
              "</style>\n",
              "<table border=\"1\" class=\"dataframe\">\n",
              "  <thead>\n",
              "    <tr style=\"text-align: right;\">\n",
              "      <th></th>\n",
              "      <th>Team</th>\n",
              "      <th>League</th>\n",
              "      <th>Year</th>\n",
              "      <th>RS</th>\n",
              "      <th>RA</th>\n",
              "      <th>W</th>\n",
              "      <th>OBP</th>\n",
              "      <th>SLG</th>\n",
              "      <th>BA</th>\n",
              "      <th>Playoffs</th>\n",
              "      <th>RankSeason</th>\n",
              "      <th>RankPlayoffs</th>\n",
              "      <th>G</th>\n",
              "      <th>OOBP</th>\n",
              "      <th>OSLG</th>\n",
              "    </tr>\n",
              "  </thead>\n",
              "  <tbody>\n",
              "    <tr>\n",
              "      <th>0</th>\n",
              "      <td>ARI</td>\n",
              "      <td>NL</td>\n",
              "      <td>2012</td>\n",
              "      <td>734</td>\n",
              "      <td>688</td>\n",
              "      <td>81</td>\n",
              "      <td>0.328</td>\n",
              "      <td>0.418</td>\n",
              "      <td>0.259</td>\n",
              "      <td>0</td>\n",
              "      <td>NaN</td>\n",
              "      <td>NaN</td>\n",
              "      <td>162</td>\n",
              "      <td>0.317</td>\n",
              "      <td>0.415</td>\n",
              "    </tr>\n",
              "    <tr>\n",
              "      <th>1</th>\n",
              "      <td>ATL</td>\n",
              "      <td>NL</td>\n",
              "      <td>2012</td>\n",
              "      <td>700</td>\n",
              "      <td>600</td>\n",
              "      <td>94</td>\n",
              "      <td>0.320</td>\n",
              "      <td>0.389</td>\n",
              "      <td>0.247</td>\n",
              "      <td>1</td>\n",
              "      <td>4.0</td>\n",
              "      <td>5.0</td>\n",
              "      <td>162</td>\n",
              "      <td>0.306</td>\n",
              "      <td>0.378</td>\n",
              "    </tr>\n",
              "    <tr>\n",
              "      <th>2</th>\n",
              "      <td>BAL</td>\n",
              "      <td>AL</td>\n",
              "      <td>2012</td>\n",
              "      <td>712</td>\n",
              "      <td>705</td>\n",
              "      <td>93</td>\n",
              "      <td>0.311</td>\n",
              "      <td>0.417</td>\n",
              "      <td>0.247</td>\n",
              "      <td>1</td>\n",
              "      <td>5.0</td>\n",
              "      <td>4.0</td>\n",
              "      <td>162</td>\n",
              "      <td>0.315</td>\n",
              "      <td>0.403</td>\n",
              "    </tr>\n",
              "    <tr>\n",
              "      <th>3</th>\n",
              "      <td>BOS</td>\n",
              "      <td>AL</td>\n",
              "      <td>2012</td>\n",
              "      <td>734</td>\n",
              "      <td>806</td>\n",
              "      <td>69</td>\n",
              "      <td>0.315</td>\n",
              "      <td>0.415</td>\n",
              "      <td>0.260</td>\n",
              "      <td>0</td>\n",
              "      <td>NaN</td>\n",
              "      <td>NaN</td>\n",
              "      <td>162</td>\n",
              "      <td>0.331</td>\n",
              "      <td>0.428</td>\n",
              "    </tr>\n",
              "    <tr>\n",
              "      <th>4</th>\n",
              "      <td>CHC</td>\n",
              "      <td>NL</td>\n",
              "      <td>2012</td>\n",
              "      <td>613</td>\n",
              "      <td>759</td>\n",
              "      <td>61</td>\n",
              "      <td>0.302</td>\n",
              "      <td>0.378</td>\n",
              "      <td>0.240</td>\n",
              "      <td>0</td>\n",
              "      <td>NaN</td>\n",
              "      <td>NaN</td>\n",
              "      <td>162</td>\n",
              "      <td>0.335</td>\n",
              "      <td>0.424</td>\n",
              "    </tr>\n",
              "  </tbody>\n",
              "</table>\n",
              "</div>\n",
              "      <button class=\"colab-df-convert\" onclick=\"convertToInteractive('df-9842957b-e73f-4025-b941-270194baaddb')\"\n",
              "              title=\"Convert this dataframe to an interactive table.\"\n",
              "              style=\"display:none;\">\n",
              "        \n",
              "  <svg xmlns=\"http://www.w3.org/2000/svg\" height=\"24px\"viewBox=\"0 0 24 24\"\n",
              "       width=\"24px\">\n",
              "    <path d=\"M0 0h24v24H0V0z\" fill=\"none\"/>\n",
              "    <path d=\"M18.56 5.44l.94 2.06.94-2.06 2.06-.94-2.06-.94-.94-2.06-.94 2.06-2.06.94zm-11 1L8.5 8.5l.94-2.06 2.06-.94-2.06-.94L8.5 2.5l-.94 2.06-2.06.94zm10 10l.94 2.06.94-2.06 2.06-.94-2.06-.94-.94-2.06-.94 2.06-2.06.94z\"/><path d=\"M17.41 7.96l-1.37-1.37c-.4-.4-.92-.59-1.43-.59-.52 0-1.04.2-1.43.59L10.3 9.45l-7.72 7.72c-.78.78-.78 2.05 0 2.83L4 21.41c.39.39.9.59 1.41.59.51 0 1.02-.2 1.41-.59l7.78-7.78 2.81-2.81c.8-.78.8-2.07 0-2.86zM5.41 20L4 18.59l7.72-7.72 1.47 1.35L5.41 20z\"/>\n",
              "  </svg>\n",
              "      </button>\n",
              "      \n",
              "  <style>\n",
              "    .colab-df-container {\n",
              "      display:flex;\n",
              "      flex-wrap:wrap;\n",
              "      gap: 12px;\n",
              "    }\n",
              "\n",
              "    .colab-df-convert {\n",
              "      background-color: #E8F0FE;\n",
              "      border: none;\n",
              "      border-radius: 50%;\n",
              "      cursor: pointer;\n",
              "      display: none;\n",
              "      fill: #1967D2;\n",
              "      height: 32px;\n",
              "      padding: 0 0 0 0;\n",
              "      width: 32px;\n",
              "    }\n",
              "\n",
              "    .colab-df-convert:hover {\n",
              "      background-color: #E2EBFA;\n",
              "      box-shadow: 0px 1px 2px rgba(60, 64, 67, 0.3), 0px 1px 3px 1px rgba(60, 64, 67, 0.15);\n",
              "      fill: #174EA6;\n",
              "    }\n",
              "\n",
              "    [theme=dark] .colab-df-convert {\n",
              "      background-color: #3B4455;\n",
              "      fill: #D2E3FC;\n",
              "    }\n",
              "\n",
              "    [theme=dark] .colab-df-convert:hover {\n",
              "      background-color: #434B5C;\n",
              "      box-shadow: 0px 1px 3px 1px rgba(0, 0, 0, 0.15);\n",
              "      filter: drop-shadow(0px 1px 2px rgba(0, 0, 0, 0.3));\n",
              "      fill: #FFFFFF;\n",
              "    }\n",
              "  </style>\n",
              "\n",
              "      <script>\n",
              "        const buttonEl =\n",
              "          document.querySelector('#df-9842957b-e73f-4025-b941-270194baaddb button.colab-df-convert');\n",
              "        buttonEl.style.display =\n",
              "          google.colab.kernel.accessAllowed ? 'block' : 'none';\n",
              "\n",
              "        async function convertToInteractive(key) {\n",
              "          const element = document.querySelector('#df-9842957b-e73f-4025-b941-270194baaddb');\n",
              "          const dataTable =\n",
              "            await google.colab.kernel.invokeFunction('convertToInteractive',\n",
              "                                                     [key], {});\n",
              "          if (!dataTable) return;\n",
              "\n",
              "          const docLinkHtml = 'Like what you see? Visit the ' +\n",
              "            '<a target=\"_blank\" href=https://colab.research.google.com/notebooks/data_table.ipynb>data table notebook</a>'\n",
              "            + ' to learn more about interactive tables.';\n",
              "          element.innerHTML = '';\n",
              "          dataTable['output_type'] = 'display_data';\n",
              "          await google.colab.output.renderOutput(dataTable, element);\n",
              "          const docLink = document.createElement('div');\n",
              "          docLink.innerHTML = docLinkHtml;\n",
              "          element.appendChild(docLink);\n",
              "        }\n",
              "      </script>\n",
              "    </div>\n",
              "  </div>\n",
              "  "
            ]
          },
          "metadata": {},
          "execution_count": 84
        }
      ],
      "source": [
        "from google.colab import drive\n",
        "drive.mount('/content/drive')\n",
        "\n",
        "import pandas as pd\n",
        "import matplotlib.pyplot as plt\n",
        "import seaborn as sns\n",
        "import numpy as np\n",
        "from sklearn.metrics import r2_score\n",
        "from sklearn.metrics import mean_absolute_error\n",
        "from sklearn.metrics import mean_squared_error\n",
        "from sklearn.model_selection import train_test_split\n",
        "from sklearn.ensemble import BaggingRegressor\n",
        "from sklearn.linear_model import LinearRegression\n",
        "from sklearn.linear_model import LogisticRegression\n",
        "from sklearn.tree import DecisionTreeRegressor\n",
        "from sklearn.ensemble import RandomForestRegressor\n",
        "from sklearn.neighbors import KNeighborsRegressor\n",
        "from sklearn.preprocessing import OneHotEncoder, StandardScaler\n",
        "from sklearn.compose import make_column_selector, make_column_transformer\n",
        "from sklearn.pipeline import make_pipeline\n",
        "from sklearn.model_selection import GridSearchCV\n",
        "\n",
        "df = pd.read_csv('/content/baseball.csv')\n",
        "df.head()"
      ]
    },
    {
      "cell_type": "markdown",
      "source": [
        "#H1 Inspecting/Cleaning/Removing Data"
      ],
      "metadata": {
        "id": "r3cduMASfphf"
      }
    },
    {
      "cell_type": "code",
      "source": [
        "df.info()"
      ],
      "metadata": {
        "colab": {
          "base_uri": "https://localhost:8080/"
        },
        "id": "NWnKmIqWfrSJ",
        "outputId": "46eb2522-f3fa-4226-827d-f08fbf736b5b"
      },
      "execution_count": 85,
      "outputs": [
        {
          "output_type": "stream",
          "name": "stdout",
          "text": [
            "<class 'pandas.core.frame.DataFrame'>\n",
            "RangeIndex: 1232 entries, 0 to 1231\n",
            "Data columns (total 15 columns):\n",
            " #   Column        Non-Null Count  Dtype  \n",
            "---  ------        --------------  -----  \n",
            " 0   Team          1232 non-null   object \n",
            " 1   League        1232 non-null   object \n",
            " 2   Year          1232 non-null   int64  \n",
            " 3   RS            1232 non-null   int64  \n",
            " 4   RA            1232 non-null   int64  \n",
            " 5   W             1232 non-null   int64  \n",
            " 6   OBP           1232 non-null   float64\n",
            " 7   SLG           1232 non-null   float64\n",
            " 8   BA            1232 non-null   float64\n",
            " 9   Playoffs      1232 non-null   int64  \n",
            " 10  RankSeason    244 non-null    float64\n",
            " 11  RankPlayoffs  244 non-null    float64\n",
            " 12  G             1232 non-null   int64  \n",
            " 13  OOBP          420 non-null    float64\n",
            " 14  OSLG          420 non-null    float64\n",
            "dtypes: float64(7), int64(6), object(2)\n",
            "memory usage: 144.5+ KB\n"
          ]
        }
      ]
    },
    {
      "cell_type": "markdown",
      "source": [
        "# Checking for Duplicate Values"
      ],
      "metadata": {
        "id": "wpCeFGDBqbjF"
      }
    },
    {
      "cell_type": "code",
      "source": [
        "df.duplicated().sum()"
      ],
      "metadata": {
        "colab": {
          "base_uri": "https://localhost:8080/"
        },
        "id": "ujp7RgNphrsC",
        "outputId": "60bf8ae9-9f52-451a-9de8-4af30a20b48a"
      },
      "execution_count": 86,
      "outputs": [
        {
          "output_type": "execute_result",
          "data": {
            "text/plain": [
              "0"
            ]
          },
          "metadata": {},
          "execution_count": 86
        }
      ]
    },
    {
      "cell_type": "markdown",
      "source": [
        "- No duplicates found no need to remove."
      ],
      "metadata": {
        "id": "Rm-U5WWth2oh"
      }
    },
    {
      "cell_type": "code",
      "source": [
        "#There are some missing data in 4 columns\n",
        "df.isna().sum()"
      ],
      "metadata": {
        "colab": {
          "base_uri": "https://localhost:8080/"
        },
        "id": "pdVE84v7h6qk",
        "outputId": "7149100c-f553-4b44-b616-33c25a3aa557"
      },
      "execution_count": 87,
      "outputs": [
        {
          "output_type": "execute_result",
          "data": {
            "text/plain": [
              "Team              0\n",
              "League            0\n",
              "Year              0\n",
              "RS                0\n",
              "RA                0\n",
              "W                 0\n",
              "OBP               0\n",
              "SLG               0\n",
              "BA                0\n",
              "Playoffs          0\n",
              "RankSeason      988\n",
              "RankPlayoffs    988\n",
              "G                 0\n",
              "OOBP            812\n",
              "OSLG            812\n",
              "dtype: int64"
            ]
          },
          "metadata": {},
          "execution_count": 87
        }
      ]
    },
    {
      "cell_type": "markdown",
      "source": [
        "- These columns with missing data are not useful for the target value. So I can remove those. "
      ],
      "metadata": {
        "id": "GCOFINeviF7O"
      }
    },
    {
      "cell_type": "markdown",
      "source": [
        "# Dropping Unnecessary Columns"
      ],
      "metadata": {
        "id": "t_lws4_EqW0f"
      }
    },
    {
      "cell_type": "code",
      "source": [
        "df = df.drop(columns = ['Team', 'RankSeason', 'RankPlayoffs', 'OOBP', 'OSLG'])"
      ],
      "metadata": {
        "id": "J9uVsTAck8m5"
      },
      "execution_count": 88,
      "outputs": []
    },
    {
      "cell_type": "code",
      "source": [
        "df.info()"
      ],
      "metadata": {
        "colab": {
          "base_uri": "https://localhost:8080/"
        },
        "id": "FZ-KtG1nnkSQ",
        "outputId": "749a89b8-12fa-4166-81b4-618c6ed0af41"
      },
      "execution_count": 89,
      "outputs": [
        {
          "output_type": "stream",
          "name": "stdout",
          "text": [
            "<class 'pandas.core.frame.DataFrame'>\n",
            "RangeIndex: 1232 entries, 0 to 1231\n",
            "Data columns (total 10 columns):\n",
            " #   Column    Non-Null Count  Dtype  \n",
            "---  ------    --------------  -----  \n",
            " 0   League    1232 non-null   object \n",
            " 1   Year      1232 non-null   int64  \n",
            " 2   RS        1232 non-null   int64  \n",
            " 3   RA        1232 non-null   int64  \n",
            " 4   W         1232 non-null   int64  \n",
            " 5   OBP       1232 non-null   float64\n",
            " 6   SLG       1232 non-null   float64\n",
            " 7   BA        1232 non-null   float64\n",
            " 8   Playoffs  1232 non-null   int64  \n",
            " 9   G         1232 non-null   int64  \n",
            "dtypes: float64(3), int64(6), object(1)\n",
            "memory usage: 96.4+ KB\n"
          ]
        }
      ]
    },
    {
      "cell_type": "markdown",
      "source": [
        "- No missing values in this data set"
      ],
      "metadata": {
        "id": "H1CsbSmbndCK"
      }
    },
    {
      "cell_type": "markdown",
      "source": [
        "# Checking for Inconsistent Values in Numerical Columns"
      ],
      "metadata": {
        "id": "q9k8Lmm2pann"
      }
    },
    {
      "cell_type": "code",
      "source": [
        "df.describe()"
      ],
      "metadata": {
        "colab": {
          "base_uri": "https://localhost:8080/",
          "height": 300
        },
        "id": "p4zWYXeVoSkf",
        "outputId": "f933571b-1481-4351-a48d-7c15ed3f131a"
      },
      "execution_count": 90,
      "outputs": [
        {
          "output_type": "execute_result",
          "data": {
            "text/plain": [
              "              Year           RS           RA            W          OBP  \\\n",
              "count  1232.000000  1232.000000  1232.000000  1232.000000  1232.000000   \n",
              "mean   1988.957792   715.081981   715.081981    80.904221     0.326331   \n",
              "std      14.819625    91.534294    93.079933    11.458139     0.015013   \n",
              "min    1962.000000   463.000000   472.000000    40.000000     0.277000   \n",
              "25%    1976.750000   652.000000   649.750000    73.000000     0.317000   \n",
              "50%    1989.000000   711.000000   709.000000    81.000000     0.326000   \n",
              "75%    2002.000000   775.000000   774.250000    89.000000     0.337000   \n",
              "max    2012.000000  1009.000000  1103.000000   116.000000     0.373000   \n",
              "\n",
              "               SLG           BA     Playoffs            G  \n",
              "count  1232.000000  1232.000000  1232.000000  1232.000000  \n",
              "mean      0.397342     0.259273     0.198052   161.918831  \n",
              "std       0.033267     0.012907     0.398693     0.624365  \n",
              "min       0.301000     0.214000     0.000000   158.000000  \n",
              "25%       0.375000     0.251000     0.000000   162.000000  \n",
              "50%       0.396000     0.260000     0.000000   162.000000  \n",
              "75%       0.421000     0.268000     0.000000   162.000000  \n",
              "max       0.491000     0.294000     1.000000   165.000000  "
            ],
            "text/html": [
              "\n",
              "  <div id=\"df-ded9d379-d698-4de0-b099-88d917908d69\">\n",
              "    <div class=\"colab-df-container\">\n",
              "      <div>\n",
              "<style scoped>\n",
              "    .dataframe tbody tr th:only-of-type {\n",
              "        vertical-align: middle;\n",
              "    }\n",
              "\n",
              "    .dataframe tbody tr th {\n",
              "        vertical-align: top;\n",
              "    }\n",
              "\n",
              "    .dataframe thead th {\n",
              "        text-align: right;\n",
              "    }\n",
              "</style>\n",
              "<table border=\"1\" class=\"dataframe\">\n",
              "  <thead>\n",
              "    <tr style=\"text-align: right;\">\n",
              "      <th></th>\n",
              "      <th>Year</th>\n",
              "      <th>RS</th>\n",
              "      <th>RA</th>\n",
              "      <th>W</th>\n",
              "      <th>OBP</th>\n",
              "      <th>SLG</th>\n",
              "      <th>BA</th>\n",
              "      <th>Playoffs</th>\n",
              "      <th>G</th>\n",
              "    </tr>\n",
              "  </thead>\n",
              "  <tbody>\n",
              "    <tr>\n",
              "      <th>count</th>\n",
              "      <td>1232.000000</td>\n",
              "      <td>1232.000000</td>\n",
              "      <td>1232.000000</td>\n",
              "      <td>1232.000000</td>\n",
              "      <td>1232.000000</td>\n",
              "      <td>1232.000000</td>\n",
              "      <td>1232.000000</td>\n",
              "      <td>1232.000000</td>\n",
              "      <td>1232.000000</td>\n",
              "    </tr>\n",
              "    <tr>\n",
              "      <th>mean</th>\n",
              "      <td>1988.957792</td>\n",
              "      <td>715.081981</td>\n",
              "      <td>715.081981</td>\n",
              "      <td>80.904221</td>\n",
              "      <td>0.326331</td>\n",
              "      <td>0.397342</td>\n",
              "      <td>0.259273</td>\n",
              "      <td>0.198052</td>\n",
              "      <td>161.918831</td>\n",
              "    </tr>\n",
              "    <tr>\n",
              "      <th>std</th>\n",
              "      <td>14.819625</td>\n",
              "      <td>91.534294</td>\n",
              "      <td>93.079933</td>\n",
              "      <td>11.458139</td>\n",
              "      <td>0.015013</td>\n",
              "      <td>0.033267</td>\n",
              "      <td>0.012907</td>\n",
              "      <td>0.398693</td>\n",
              "      <td>0.624365</td>\n",
              "    </tr>\n",
              "    <tr>\n",
              "      <th>min</th>\n",
              "      <td>1962.000000</td>\n",
              "      <td>463.000000</td>\n",
              "      <td>472.000000</td>\n",
              "      <td>40.000000</td>\n",
              "      <td>0.277000</td>\n",
              "      <td>0.301000</td>\n",
              "      <td>0.214000</td>\n",
              "      <td>0.000000</td>\n",
              "      <td>158.000000</td>\n",
              "    </tr>\n",
              "    <tr>\n",
              "      <th>25%</th>\n",
              "      <td>1976.750000</td>\n",
              "      <td>652.000000</td>\n",
              "      <td>649.750000</td>\n",
              "      <td>73.000000</td>\n",
              "      <td>0.317000</td>\n",
              "      <td>0.375000</td>\n",
              "      <td>0.251000</td>\n",
              "      <td>0.000000</td>\n",
              "      <td>162.000000</td>\n",
              "    </tr>\n",
              "    <tr>\n",
              "      <th>50%</th>\n",
              "      <td>1989.000000</td>\n",
              "      <td>711.000000</td>\n",
              "      <td>709.000000</td>\n",
              "      <td>81.000000</td>\n",
              "      <td>0.326000</td>\n",
              "      <td>0.396000</td>\n",
              "      <td>0.260000</td>\n",
              "      <td>0.000000</td>\n",
              "      <td>162.000000</td>\n",
              "    </tr>\n",
              "    <tr>\n",
              "      <th>75%</th>\n",
              "      <td>2002.000000</td>\n",
              "      <td>775.000000</td>\n",
              "      <td>774.250000</td>\n",
              "      <td>89.000000</td>\n",
              "      <td>0.337000</td>\n",
              "      <td>0.421000</td>\n",
              "      <td>0.268000</td>\n",
              "      <td>0.000000</td>\n",
              "      <td>162.000000</td>\n",
              "    </tr>\n",
              "    <tr>\n",
              "      <th>max</th>\n",
              "      <td>2012.000000</td>\n",
              "      <td>1009.000000</td>\n",
              "      <td>1103.000000</td>\n",
              "      <td>116.000000</td>\n",
              "      <td>0.373000</td>\n",
              "      <td>0.491000</td>\n",
              "      <td>0.294000</td>\n",
              "      <td>1.000000</td>\n",
              "      <td>165.000000</td>\n",
              "    </tr>\n",
              "  </tbody>\n",
              "</table>\n",
              "</div>\n",
              "      <button class=\"colab-df-convert\" onclick=\"convertToInteractive('df-ded9d379-d698-4de0-b099-88d917908d69')\"\n",
              "              title=\"Convert this dataframe to an interactive table.\"\n",
              "              style=\"display:none;\">\n",
              "        \n",
              "  <svg xmlns=\"http://www.w3.org/2000/svg\" height=\"24px\"viewBox=\"0 0 24 24\"\n",
              "       width=\"24px\">\n",
              "    <path d=\"M0 0h24v24H0V0z\" fill=\"none\"/>\n",
              "    <path d=\"M18.56 5.44l.94 2.06.94-2.06 2.06-.94-2.06-.94-.94-2.06-.94 2.06-2.06.94zm-11 1L8.5 8.5l.94-2.06 2.06-.94-2.06-.94L8.5 2.5l-.94 2.06-2.06.94zm10 10l.94 2.06.94-2.06 2.06-.94-2.06-.94-.94-2.06-.94 2.06-2.06.94z\"/><path d=\"M17.41 7.96l-1.37-1.37c-.4-.4-.92-.59-1.43-.59-.52 0-1.04.2-1.43.59L10.3 9.45l-7.72 7.72c-.78.78-.78 2.05 0 2.83L4 21.41c.39.39.9.59 1.41.59.51 0 1.02-.2 1.41-.59l7.78-7.78 2.81-2.81c.8-.78.8-2.07 0-2.86zM5.41 20L4 18.59l7.72-7.72 1.47 1.35L5.41 20z\"/>\n",
              "  </svg>\n",
              "      </button>\n",
              "      \n",
              "  <style>\n",
              "    .colab-df-container {\n",
              "      display:flex;\n",
              "      flex-wrap:wrap;\n",
              "      gap: 12px;\n",
              "    }\n",
              "\n",
              "    .colab-df-convert {\n",
              "      background-color: #E8F0FE;\n",
              "      border: none;\n",
              "      border-radius: 50%;\n",
              "      cursor: pointer;\n",
              "      display: none;\n",
              "      fill: #1967D2;\n",
              "      height: 32px;\n",
              "      padding: 0 0 0 0;\n",
              "      width: 32px;\n",
              "    }\n",
              "\n",
              "    .colab-df-convert:hover {\n",
              "      background-color: #E2EBFA;\n",
              "      box-shadow: 0px 1px 2px rgba(60, 64, 67, 0.3), 0px 1px 3px 1px rgba(60, 64, 67, 0.15);\n",
              "      fill: #174EA6;\n",
              "    }\n",
              "\n",
              "    [theme=dark] .colab-df-convert {\n",
              "      background-color: #3B4455;\n",
              "      fill: #D2E3FC;\n",
              "    }\n",
              "\n",
              "    [theme=dark] .colab-df-convert:hover {\n",
              "      background-color: #434B5C;\n",
              "      box-shadow: 0px 1px 3px 1px rgba(0, 0, 0, 0.15);\n",
              "      filter: drop-shadow(0px 1px 2px rgba(0, 0, 0, 0.3));\n",
              "      fill: #FFFFFF;\n",
              "    }\n",
              "  </style>\n",
              "\n",
              "      <script>\n",
              "        const buttonEl =\n",
              "          document.querySelector('#df-ded9d379-d698-4de0-b099-88d917908d69 button.colab-df-convert');\n",
              "        buttonEl.style.display =\n",
              "          google.colab.kernel.accessAllowed ? 'block' : 'none';\n",
              "\n",
              "        async function convertToInteractive(key) {\n",
              "          const element = document.querySelector('#df-ded9d379-d698-4de0-b099-88d917908d69');\n",
              "          const dataTable =\n",
              "            await google.colab.kernel.invokeFunction('convertToInteractive',\n",
              "                                                     [key], {});\n",
              "          if (!dataTable) return;\n",
              "\n",
              "          const docLinkHtml = 'Like what you see? Visit the ' +\n",
              "            '<a target=\"_blank\" href=https://colab.research.google.com/notebooks/data_table.ipynb>data table notebook</a>'\n",
              "            + ' to learn more about interactive tables.';\n",
              "          element.innerHTML = '';\n",
              "          dataTable['output_type'] = 'display_data';\n",
              "          await google.colab.output.renderOutput(dataTable, element);\n",
              "          const docLink = document.createElement('div');\n",
              "          docLink.innerHTML = docLinkHtml;\n",
              "          element.appendChild(docLink);\n",
              "        }\n",
              "      </script>\n",
              "    </div>\n",
              "  </div>\n",
              "  "
            ]
          },
          "metadata": {},
          "execution_count": 90
        }
      ]
    },
    {
      "cell_type": "markdown",
      "source": [
        "- I did not see any values that need to be fixed. They all appear to have plausible values."
      ],
      "metadata": {
        "id": "M9Y0yy24pH_1"
      }
    },
    {
      "cell_type": "markdown",
      "source": [
        "# Checking for Inconsistent Values in Object Columns"
      ],
      "metadata": {
        "id": "F2jG0Xe5qg-h"
      }
    },
    {
      "cell_type": "code",
      "source": [
        "dtypes = df.dtypes\n",
        "str_cols = dtypes[dtypes=='object'].index\n",
        "str_cols"
      ],
      "metadata": {
        "colab": {
          "base_uri": "https://localhost:8080/"
        },
        "id": "hnJ6YQFIryBH",
        "outputId": "ffac6330-3725-4778-ec78-e8eb74cc52a1"
      },
      "execution_count": 91,
      "outputs": [
        {
          "output_type": "execute_result",
          "data": {
            "text/plain": [
              "Index(['League'], dtype='object')"
            ]
          },
          "metadata": {},
          "execution_count": 91
        }
      ]
    },
    {
      "cell_type": "code",
      "source": [
        "for col in str_cols:\n",
        "    print(f\"- Column= {col}\")\n",
        "    print(df[col].value_counts(dropna=False))\n",
        "    print('\\n\\n')"
      ],
      "metadata": {
        "id": "j1lwVEaZr6UI",
        "colab": {
          "base_uri": "https://localhost:8080/"
        },
        "outputId": "4c3ca8b9-d990-4905-f28c-967ca89dca50"
      },
      "execution_count": 92,
      "outputs": [
        {
          "output_type": "stream",
          "name": "stdout",
          "text": [
            "- Column= League\n",
            "NL    616\n",
            "AL    616\n",
            "Name: League, dtype: int64\n",
            "\n",
            "\n",
            "\n"
          ]
        }
      ]
    },
    {
      "cell_type": "markdown",
      "source": [
        "- I do not see any inconsistent values in the object columns. "
      ],
      "metadata": {
        "id": "3ZTUYcbkr_SS"
      }
    },
    {
      "cell_type": "markdown",
      "source": [
        "# Exploring Univariate Visuals for Target (Playoffs) and all Feature Columns"
      ],
      "metadata": {
        "id": "MIrjsVhRsJ11"
      }
    },
    {
      "cell_type": "code",
      "source": [
        "df.info()"
      ],
      "metadata": {
        "colab": {
          "base_uri": "https://localhost:8080/"
        },
        "id": "wgDB-PXRxy1m",
        "outputId": "6decf9fa-3b58-4415-b488-06f807407835"
      },
      "execution_count": 93,
      "outputs": [
        {
          "output_type": "stream",
          "name": "stdout",
          "text": [
            "<class 'pandas.core.frame.DataFrame'>\n",
            "RangeIndex: 1232 entries, 0 to 1231\n",
            "Data columns (total 10 columns):\n",
            " #   Column    Non-Null Count  Dtype  \n",
            "---  ------    --------------  -----  \n",
            " 0   League    1232 non-null   object \n",
            " 1   Year      1232 non-null   int64  \n",
            " 2   RS        1232 non-null   int64  \n",
            " 3   RA        1232 non-null   int64  \n",
            " 4   W         1232 non-null   int64  \n",
            " 5   OBP       1232 non-null   float64\n",
            " 6   SLG       1232 non-null   float64\n",
            " 7   BA        1232 non-null   float64\n",
            " 8   Playoffs  1232 non-null   int64  \n",
            " 9   G         1232 non-null   int64  \n",
            "dtypes: float64(3), int64(6), object(1)\n",
            "memory usage: 96.4+ KB\n"
          ]
        }
      ]
    },
    {
      "cell_type": "code",
      "source": [
        "df['League'].value_counts().plot(kind='bar');"
      ],
      "metadata": {
        "colab": {
          "base_uri": "https://localhost:8080/",
          "height": 267
        },
        "id": "QLzuHib4x143",
        "outputId": "b8dc1b83-28ad-408e-85e3-5cc85e5d1c3a"
      },
      "execution_count": 94,
      "outputs": [
        {
          "output_type": "display_data",
          "data": {
            "text/plain": [
              "<Figure size 432x288 with 1 Axes>"
            ],
            "image/png": "[encoded data removed]"
          },
          "metadata": {
            "needs_background": "light"
          }
        }
      ]
    },
    {
      "cell_type": "code",
      "source": [
        "df.boxplot(column='RS')"
      ],
      "metadata": {
        "colab": {
          "base_uri": "https://localhost:8080/",
          "height": 283
        },
        "id": "ce1OPfJnyAEa",
        "outputId": "de94dac3-79c7-41c3-d207-90749d8083b1"
      },
      "execution_count": 95,
      "outputs": [
        {
          "output_type": "execute_result",
          "data": {
            "text/plain": [
              "<matplotlib.axes._subplots.AxesSubplot at 0x7f07f1de5110>"
            ]
          },
          "metadata": {},
          "execution_count": 95
        },
        {
          "output_type": "display_data",
          "data": {
            "text/plain": [
              "<Figure size 432x288 with 1 Axes>"
            ],
            "image/png": "[encoded data removed]"
          },
          "metadata": {
            "needs_background": "light"
          }
        }
      ]
    },
    {
      "cell_type": "markdown",
      "source": [
        "- A couple of outliers in the data for Runs Scored but everything is plausible"
      ],
      "metadata": {
        "id": "EWpDaIEW1Ayv"
      }
    },
    {
      "cell_type": "code",
      "source": [
        "df.boxplot(column='RA')"
      ],
      "metadata": {
        "colab": {
          "base_uri": "https://localhost:8080/",
          "height": 283
        },
        "id": "bSiL5o43z1F1",
        "outputId": "18db5438-8c40-41ce-9eb6-80e088b3bbaf"
      },
      "execution_count": 96,
      "outputs": [
        {
          "output_type": "execute_result",
          "data": {
            "text/plain": [
              "<matplotlib.axes._subplots.AxesSubplot at 0x7f07ecbd07d0>"
            ]
          },
          "metadata": {},
          "execution_count": 96
        },
        {
          "output_type": "display_data",
          "data": {
            "text/plain": [
              "<Figure size 432x288 with 1 Axes>"
            ],
            "image/png": "[encoded data removed]"
          },
          "metadata": {
            "needs_background": "light"
          }
        }
      ]
    },
    {
      "cell_type": "markdown",
      "source": [
        "- A couple of outliers in the data for Runs Allowed but everything is plausible"
      ],
      "metadata": {
        "id": "Ny5rVuOX1JCX"
      }
    },
    {
      "cell_type": "code",
      "source": [
        "df.boxplot(column='W')"
      ],
      "metadata": {
        "colab": {
          "base_uri": "https://localhost:8080/",
          "height": 283
        },
        "id": "RvXlKZPbz1iO",
        "outputId": "92e05a5f-76c6-468a-db72-04c270fe21fe"
      },
      "execution_count": 97,
      "outputs": [
        {
          "output_type": "execute_result",
          "data": {
            "text/plain": [
              "<matplotlib.axes._subplots.AxesSubplot at 0x7f07ed1abb10>"
            ]
          },
          "metadata": {},
          "execution_count": 97
        },
        {
          "output_type": "display_data",
          "data": {
            "text/plain": [
              "<Figure size 432x288 with 1 Axes>"
            ],
            "image/png": "[encoded data removed]"
          },
          "metadata": {
            "needs_background": "light"
          }
        }
      ]
    },
    {
      "cell_type": "markdown",
      "source": [
        "- A couple of outliers in the data for Wins but everything is plausible"
      ],
      "metadata": {
        "id": "p60Dww5J1j9Y"
      }
    },
    {
      "cell_type": "code",
      "source": [
        "df.boxplot(column='OBP')"
      ],
      "metadata": {
        "colab": {
          "base_uri": "https://localhost:8080/",
          "height": 283
        },
        "id": "I8ZpSvWAz10i",
        "outputId": "442e7187-f83f-464e-cf4f-3ac56000c72a"
      },
      "execution_count": 98,
      "outputs": [
        {
          "output_type": "execute_result",
          "data": {
            "text/plain": [
              "<matplotlib.axes._subplots.AxesSubplot at 0x7f07ed109c10>"
            ]
          },
          "metadata": {},
          "execution_count": 98
        },
        {
          "output_type": "display_data",
          "data": {
            "text/plain": [
              "<Figure size 432x288 with 1 Axes>"
            ],
            "image/png": "[encoded data removed]"
          },
          "metadata": {
            "needs_background": "light"
          }
        }
      ]
    },
    {
      "cell_type": "markdown",
      "source": [
        "- Some outliers in the data for On-Base-Percentage but everything is plausible"
      ],
      "metadata": {
        "id": "02-mCnMa7qKT"
      }
    },
    {
      "cell_type": "code",
      "source": [
        "df.boxplot(column='SLG')"
      ],
      "metadata": {
        "colab": {
          "base_uri": "https://localhost:8080/",
          "height": 287
        },
        "id": "IiSx-tmZz2h_",
        "outputId": "159cce47-16b5-42b1-a708-cf2581c8cf74"
      },
      "execution_count": 99,
      "outputs": [
        {
          "output_type": "execute_result",
          "data": {
            "text/plain": [
              "<matplotlib.axes._subplots.AxesSubplot at 0x7f07ed196810>"
            ]
          },
          "metadata": {},
          "execution_count": 99
        },
        {
          "output_type": "display_data",
          "data": {
            "text/plain": [
              "<Figure size 432x288 with 1 Axes>"
            ],
            "image/png": "[encoded data removed]"
          },
          "metadata": {
            "needs_background": "light"
          }
        }
      ]
    },
    {
      "cell_type": "markdown",
      "source": [
        "- A couple of outliers in the data for Slugging Percentage but everything is plausible"
      ],
      "metadata": {
        "id": "J6z_osVO7nA4"
      }
    },
    {
      "cell_type": "code",
      "source": [
        "df.boxplot(column='BA')"
      ],
      "metadata": {
        "colab": {
          "base_uri": "https://localhost:8080/",
          "height": 283
        },
        "id": "_mFUxw6Cz2y6",
        "outputId": "5dda73be-1b6b-45ba-f685-49e30252339e"
      },
      "execution_count": 100,
      "outputs": [
        {
          "output_type": "execute_result",
          "data": {
            "text/plain": [
              "<matplotlib.axes._subplots.AxesSubplot at 0x7f07ed1556d0>"
            ]
          },
          "metadata": {},
          "execution_count": 100
        },
        {
          "output_type": "display_data",
          "data": {
            "text/plain": [
              "<Figure size 432x288 with 1 Axes>"
            ],
            "image/png": "[encoded data removed]"
          },
          "metadata": {
            "needs_background": "light"
          }
        }
      ]
    },
    {
      "cell_type": "markdown",
      "source": [
        "- Some outliers in the data for Batting Average but everything is plausible"
      ],
      "metadata": {
        "id": "spI2rBnC7i9V"
      }
    },
    {
      "cell_type": "code",
      "source": [
        "df.boxplot(column='G')"
      ],
      "metadata": {
        "colab": {
          "base_uri": "https://localhost:8080/",
          "height": 283
        },
        "id": "N6T8AQE-z3T-",
        "outputId": "314a44ba-8ce8-4ae5-941c-61d4a21f99f1"
      },
      "execution_count": 101,
      "outputs": [
        {
          "output_type": "execute_result",
          "data": {
            "text/plain": [
              "<matplotlib.axes._subplots.AxesSubplot at 0x7f07eec3aed0>"
            ]
          },
          "metadata": {},
          "execution_count": 101
        },
        {
          "output_type": "display_data",
          "data": {
            "text/plain": [
              "<Figure size 432x288 with 1 Axes>"
            ],
            "image/png": "[encoded data removed]"
          },
          "metadata": {
            "needs_background": "light"
          }
        }
      ]
    },
    {
      "cell_type": "markdown",
      "source": [
        "- A couple of outliers in the data for Games but everything is plausible"
      ],
      "metadata": {
        "id": "KpWEWJa_7gHT"
      }
    },
    {
      "cell_type": "code",
      "source": [
        "corr = df.corr()\n",
        "\n",
        "sns.heatmap(corr, annot = True);"
      ],
      "metadata": {
        "colab": {
          "base_uri": "https://localhost:8080/",
          "height": 268
        },
        "id": "VJdNZ-d88CA1",
        "outputId": "be4cc700-8177-4835-95df-6d21ae6df434"
      },
      "execution_count": 102,
      "outputs": [
        {
          "output_type": "display_data",
          "data": {
            "text/plain": [
              "<Figure size 432x288 with 2 Axes>"
            ],
            "image/png": "[encoded data removed]"
          },
          "metadata": {
            "needs_background": "light"
          }
        }
      ]
    },
    {
      "cell_type": "markdown",
      "source": [
        "- Strong relationship between Playoffs (target) with (features) RS, Wins, OBP, SLG and BA.\n",
        "- Strong relationship between RS, SLG, OBP, Wins, BA "
      ],
      "metadata": {
        "id": "gYsiIQk9-1VW"
      }
    },
    {
      "cell_type": "markdown",
      "source": [
        "# Explanatory Visuals"
      ],
      "metadata": {
        "id": "Jw-irkF7mQvE"
      }
    },
    {
      "cell_type": "markdown",
      "source": [
        "# How does Batting Average and Slugging Percentage Impact Making the Playoffs"
      ],
      "metadata": {
        "id": "SXq_wgu9mkXr"
      }
    },
    {
      "cell_type": "code",
      "source": [
        "sns.scatterplot(data = df, x = 'BA', y = 'SLG', hue = 'Playoffs').set(title='How Does Batting Average and Slugging Percentage Impact Making the Playoffs');"
      ],
      "metadata": {
        "colab": {
          "base_uri": "https://localhost:8080/",
          "height": 294
        },
        "id": "7zaZJfV-mSsb",
        "outputId": "e5c30ce9-3004-4339-94ce-48f93a371a4f"
      },
      "execution_count": 103,
      "outputs": [
        {
          "output_type": "display_data",
          "data": {
            "text/plain": [
              "<Figure size 432x288 with 1 Axes>"
            ],
            "image/png": "[encoded data removed]"
          },
          "metadata": {
            "needs_background": "light"
          }
        }
      ]
    },
    {
      "cell_type": "markdown",
      "source": [
        "- After viewing the graph above we can see that teams who have a higher batting average and slugging percentage more often that not have a better chance of making the playoffs. Although there are a few outliers in this case there are teams who did not make the playoffs with a high BA and SLG as well as teams who did make the playoffs with a low BA and SLG. "
      ],
      "metadata": {
        "id": "fIbEOVJmm2Js"
      }
    },
    {
      "cell_type": "markdown",
      "source": [
        "# How Does RunsScored and OnBasePercentage Impact Making the Playoffs"
      ],
      "metadata": {
        "id": "f3Xy5ijgovZ0"
      }
    },
    {
      "cell_type": "code",
      "source": [
        "sns.scatterplot(data = df, x = 'RS', y = 'OBP', hue = 'Playoffs').set(title='How Does RunsScored and OnBasePercentage Impact Making the Playoffs');"
      ],
      "metadata": {
        "colab": {
          "base_uri": "https://localhost:8080/",
          "height": 294
        },
        "id": "7L1Axgwqovn-",
        "outputId": "7dcb02e7-6df8-4775-daac-ca71cb486f64"
      },
      "execution_count": 104,
      "outputs": [
        {
          "output_type": "display_data",
          "data": {
            "text/plain": [
              "<Figure size 432x288 with 1 Axes>"
            ],
            "image/png": "[encoded data removed]"
          },
          "metadata": {
            "needs_background": "light"
          }
        }
      ]
    },
    {
      "cell_type": "markdown",
      "source": [
        "- After examining the graph we can see that teams who have a higher on-base percentage and total runs scored for the year are more than likely to make the playoffs that given year. Although we do see some outliers on both sides where teams who did make the playoffs but did not score a lot of runs and had a low on base percentage. As well as teams who did not make the playoffs who scored a lot of runs and had a high on-base percentage. "
      ],
      "metadata": {
        "id": "twYWSXsxpFcZ"
      }
    },
    {
      "cell_type": "markdown",
      "source": [
        "#H2 Regression Models Pre Processing"
      ],
      "metadata": {
        "id": "QHtW_HDTBXRH"
      }
    },
    {
      "cell_type": "code",
      "source": [
        "# assigning target y and features x\n",
        "X = df.drop(columns='Playoffs')\n",
        "y = df['Playoffs']\n",
        "# train test split data\n",
        "X_train, X_test, y_train, y_test = train_test_split(X, y, random_state=42)"
      ],
      "metadata": {
        "id": "kloRhVtEBbNZ"
      },
      "execution_count": 105,
      "outputs": []
    },
    {
      "cell_type": "markdown",
      "source": [
        ""
      ],
      "metadata": {
        "id": "3REpIviRRFET"
      }
    },
    {
      "cell_type": "code",
      "source": [
        "cat_selector = make_column_selector(dtype_include='object')\n",
        "num_selector = make_column_selector(dtype_include='number')\n",
        "\n",
        "ohe = OneHotEncoder(sparse=False, handle_unknown='ignore')\n",
        "scaler = StandardScaler()\n",
        "\n",
        "# Use 2 tuples, one for numeric and one for categorical\n",
        "ohe_tuple = (ohe, cat_selector)\n",
        "scaler_tuple = (scaler, num_selector)\n",
        "\n",
        "\n",
        "# Combine the pipelines in a ColumnTransformer with the appropriate column selectors\n",
        "transformer = make_column_transformer(scaler_tuple, ohe_tuple, remainder='passthrough')"
      ],
      "metadata": {
        "id": "4HWHw5JLDDsJ"
      },
      "execution_count": 106,
      "outputs": []
    },
    {
      "cell_type": "code",
      "source": [
        "def eval_model(true, pred):\n",
        "  mae= mean_absolute_error(true, pred)\n",
        "  mse= mean_squared_error(true, pred)\n",
        "  rmse=np.sqrt(mse)\n",
        "  r2 = r2_score(true, pred)\n",
        "\n",
        "  print(f'MAE: {mae:,.2f}, \\n MSE: {mse:,.2f}, \\n RMSE: {rmse:,.2f}, \\n R2: {r2:,.2f} ')\n",
        "# and prints all 4 metrics"
      ],
      "metadata": {
        "id": "_i5aFd74DKQg"
      },
      "execution_count": 107,
      "outputs": []
    },
    {
      "cell_type": "markdown",
      "source": [
        "#H3 Default Random Forest Model"
      ],
      "metadata": {
        "id": "qIXdBQx6Q5xU"
      }
    },
    {
      "cell_type": "code",
      "source": [
        "# Instantiate Model\n",
        "rf = RandomForestRegressor(random_state = 42)"
      ],
      "metadata": {
        "id": "trvjzGIQQ8KS"
      },
      "execution_count": 108,
      "outputs": []
    },
    {
      "cell_type": "code",
      "source": [
        "# Looking at some hyperparameters that seem tunable\n",
        "rf.get_params()"
      ],
      "metadata": {
        "colab": {
          "base_uri": "https://localhost:8080/"
        },
        "id": "Asq5wmyrQ9Rr",
        "outputId": "a5913028-de24-4e76-b810-2ee7adcf714b"
      },
      "execution_count": 109,
      "outputs": [
        {
          "output_type": "execute_result",
          "data": {
            "text/plain": [
              "{'bootstrap': True,\n",
              " 'ccp_alpha': 0.0,\n",
              " 'criterion': 'squared_error',\n",
              " 'max_depth': None,\n",
              " 'max_features': 'auto',\n",
              " 'max_leaf_nodes': None,\n",
              " 'max_samples': None,\n",
              " 'min_impurity_decrease': 0.0,\n",
              " 'min_samples_leaf': 1,\n",
              " 'min_samples_split': 2,\n",
              " 'min_weight_fraction_leaf': 0.0,\n",
              " 'n_estimators': 100,\n",
              " 'n_jobs': None,\n",
              " 'oob_score': False,\n",
              " 'random_state': 42,\n",
              " 'verbose': 0,\n",
              " 'warm_start': False}"
            ]
          },
          "metadata": {},
          "execution_count": 109
        }
      ]
    },
    {
      "cell_type": "code",
      "source": [
        "# Create and Fit Pipeline\n",
        "rf_pipe = make_pipeline(transformer, rf)\n",
        "rf_pipe.fit(X_train, y_train)"
      ],
      "metadata": {
        "colab": {
          "base_uri": "https://localhost:8080/"
        },
        "id": "fTPBXnhqSgzd",
        "outputId": "01a452ad-0bf3-4181-b250-1d3af872b0ab"
      },
      "execution_count": 110,
      "outputs": [
        {
          "output_type": "execute_result",
          "data": {
            "text/plain": [
              "Pipeline(steps=[('columntransformer',\n",
              "                 ColumnTransformer(remainder='passthrough',\n",
              "                                   transformers=[('standardscaler',\n",
              "                                                  StandardScaler(),\n",
              "                                                  <sklearn.compose._column_transformer.make_column_selector object at 0x7f07ed0c70d0>),\n",
              "                                                 ('onehotencoder',\n",
              "                                                  OneHotEncoder(handle_unknown='ignore',\n",
              "                                                                sparse=False),\n",
              "                                                  <sklearn.compose._column_transformer.make_column_selector object at 0x7f07ed0c7ad0>)])),\n",
              "                ('randomforestregressor',\n",
              "                 RandomForestRegressor(random_state=42))])"
            ]
          },
          "metadata": {},
          "execution_count": 110
        }
      ]
    },
    {
      "cell_type": "markdown",
      "source": [
        "#Default Random Forest Model Evaluation"
      ],
      "metadata": {
        "id": "rYBohN4yWarQ"
      }
    },
    {
      "cell_type": "code",
      "source": [
        "# Obtain evaluation metrics on both train and test sets\n",
        "print('RF Training RMSE:', np.sqrt(mean_squared_error(y_train, rf_pipe.predict(X_train))))\n",
        "print('RF Testing RMSE:', np.sqrt(mean_squared_error(y_test, rf_pipe.predict(X_test))))\n",
        "print('------')\n",
        "print('RF Training MAE:', np.sqrt(mean_absolute_error(y_train, rf_pipe.predict(X_train))))\n",
        "print('RF Testing MAE:', np.sqrt(mean_absolute_error(y_test, rf_pipe.predict(X_test))))\n",
        "print('------')\n",
        "print('RF Training R2:', r2_score(y_train, rf_pipe.predict(X_train)))\n",
        "print('RF Testing R2:', r2_score(y_test, rf_pipe.predict(X_test)))"
      ],
      "metadata": {
        "colab": {
          "base_uri": "https://localhost:8080/"
        },
        "id": "1bteyWb8TjFY",
        "outputId": "189efbeb-2e59-451d-b2d1-fc20d71b88dd"
      },
      "execution_count": 111,
      "outputs": [
        {
          "output_type": "stream",
          "name": "stdout",
          "text": [
            "RF Training RMSE: 0.09532412240187849\n",
            "RF Testing RMSE: 0.2580364164372777\n",
            "------\n",
            "RF Training MAE: 0.20667958345334989\n",
            "RF Testing MAE: 0.3370517706583013\n",
            "------\n",
            "RF Training R2: 0.9432542413049043\n",
            "RF Testing R2: 0.5700558164862841\n"
          ]
        }
      ]
    },
    {
      "cell_type": "markdown",
      "source": [
        "- With an R2 training score of .94 and a test score of .57 this model has high variance and is overfit"
      ],
      "metadata": {
        "id": "2t12Fb00G7we"
      }
    },
    {
      "cell_type": "markdown",
      "source": [
        "#H4 Hypertuned Random Forest Model"
      ],
      "metadata": {
        "id": "hi0khqYsWdhI"
      }
    },
    {
      "cell_type": "code",
      "source": [
        "# Hypertuning the random forest model.\n",
        "rf_pipe.get_params()"
      ],
      "metadata": {
        "colab": {
          "base_uri": "https://localhost:8080/"
        },
        "id": "aCGLz2cPToQF",
        "outputId": "f80c93c9-dcb9-4d13-b493-e36876a46100"
      },
      "execution_count": 112,
      "outputs": [
        {
          "output_type": "execute_result",
          "data": {
            "text/plain": [
              "{'columntransformer': ColumnTransformer(remainder='passthrough',\n",
              "                   transformers=[('standardscaler', StandardScaler(),\n",
              "                                  <sklearn.compose._column_transformer.make_column_selector object at 0x7f07ed0c70d0>),\n",
              "                                 ('onehotencoder',\n",
              "                                  OneHotEncoder(handle_unknown='ignore',\n",
              "                                                sparse=False),\n",
              "                                  <sklearn.compose._column_transformer.make_column_selector object at 0x7f07ed0c7ad0>)]),\n",
              " 'columntransformer__n_jobs': None,\n",
              " 'columntransformer__onehotencoder': OneHotEncoder(handle_unknown='ignore', sparse=False),\n",
              " 'columntransformer__onehotencoder__categories': 'auto',\n",
              " 'columntransformer__onehotencoder__drop': None,\n",
              " 'columntransformer__onehotencoder__dtype': numpy.float64,\n",
              " 'columntransformer__onehotencoder__handle_unknown': 'ignore',\n",
              " 'columntransformer__onehotencoder__sparse': False,\n",
              " 'columntransformer__remainder': 'passthrough',\n",
              " 'columntransformer__sparse_threshold': 0.3,\n",
              " 'columntransformer__standardscaler': StandardScaler(),\n",
              " 'columntransformer__standardscaler__copy': True,\n",
              " 'columntransformer__standardscaler__with_mean': True,\n",
              " 'columntransformer__standardscaler__with_std': True,\n",
              " 'columntransformer__transformer_weights': None,\n",
              " 'columntransformer__transformers': [('standardscaler',\n",
              "   StandardScaler(),\n",
              "   <sklearn.compose._column_transformer.make_column_selector at 0x7f07ed0c70d0>),\n",
              "  ('onehotencoder',\n",
              "   OneHotEncoder(handle_unknown='ignore', sparse=False),\n",
              "   <sklearn.compose._column_transformer.make_column_selector at 0x7f07ed0c7ad0>)],\n",
              " 'columntransformer__verbose': False,\n",
              " 'columntransformer__verbose_feature_names_out': True,\n",
              " 'memory': None,\n",
              " 'randomforestregressor': RandomForestRegressor(random_state=42),\n",
              " 'randomforestregressor__bootstrap': True,\n",
              " 'randomforestregressor__ccp_alpha': 0.0,\n",
              " 'randomforestregressor__criterion': 'squared_error',\n",
              " 'randomforestregressor__max_depth': None,\n",
              " 'randomforestregressor__max_features': 'auto',\n",
              " 'randomforestregressor__max_leaf_nodes': None,\n",
              " 'randomforestregressor__max_samples': None,\n",
              " 'randomforestregressor__min_impurity_decrease': 0.0,\n",
              " 'randomforestregressor__min_samples_leaf': 1,\n",
              " 'randomforestregressor__min_samples_split': 2,\n",
              " 'randomforestregressor__min_weight_fraction_leaf': 0.0,\n",
              " 'randomforestregressor__n_estimators': 100,\n",
              " 'randomforestregressor__n_jobs': None,\n",
              " 'randomforestregressor__oob_score': False,\n",
              " 'randomforestregressor__random_state': 42,\n",
              " 'randomforestregressor__verbose': 0,\n",
              " 'randomforestregressor__warm_start': False,\n",
              " 'steps': [('columntransformer', ColumnTransformer(remainder='passthrough',\n",
              "                     transformers=[('standardscaler', StandardScaler(),\n",
              "                                    <sklearn.compose._column_transformer.make_column_selector object at 0x7f07ed0c70d0>),\n",
              "                                   ('onehotencoder',\n",
              "                                    OneHotEncoder(handle_unknown='ignore',\n",
              "                                                  sparse=False),\n",
              "                                    <sklearn.compose._column_transformer.make_column_selector object at 0x7f07ed0c7ad0>)])),\n",
              "  ('randomforestregressor', RandomForestRegressor(random_state=42))],\n",
              " 'verbose': False}"
            ]
          },
          "metadata": {},
          "execution_count": 112
        }
      ]
    },
    {
      "cell_type": "code",
      "source": [
        "# Hyperparameter Testing\n",
        "rf_params = {'randomforestregressor__max_depth' : [None, 1, 2, 3, 4, 5],\n",
        "             'randomforestregressor__n_estimators' : [100, 300, 500, 600],\n",
        "             'randomforestregressor__min_samples_split' : [2, 4]}"
      ],
      "metadata": {
        "id": "PL_ra00wTwAP"
      },
      "execution_count": 113,
      "outputs": []
    },
    {
      "cell_type": "code",
      "source": [
        "# Instantiate the Gridsearch with the Random Forest pipeline\n",
        "rf_gs = GridSearchCV(rf_pipe, rf_params)\n",
        "\n",
        "rf_gs.fit(X_train, y_train)"
      ],
      "metadata": {
        "colab": {
          "base_uri": "https://localhost:8080/"
        },
        "id": "UOLgTBM3T0OF",
        "outputId": "3fd5bed7-c162-46b0-81dc-0694e3431eb1"
      },
      "execution_count": 114,
      "outputs": [
        {
          "output_type": "execute_result",
          "data": {
            "text/plain": [
              "GridSearchCV(estimator=Pipeline(steps=[('columntransformer',\n",
              "                                        ColumnTransformer(remainder='passthrough',\n",
              "                                                          transformers=[('standardscaler',\n",
              "                                                                         StandardScaler(),\n",
              "                                                                         <sklearn.compose._column_transformer.make_column_selector object at 0x7f07ed0c70d0>),\n",
              "                                                                        ('onehotencoder',\n",
              "                                                                         OneHotEncoder(handle_unknown='ignore',\n",
              "                                                                                       sparse=False),\n",
              "                                                                         <sklearn.compose._column_transformer.make_column_selector object at 0x7f07ed0c7ad0>)])),\n",
              "                                       ('randomforestregressor',\n",
              "                                        RandomForestRegressor(random_state=42))]),\n",
              "             param_grid={'randomforestregressor__max_depth': [None, 1, 2, 3, 4,\n",
              "                                                              5],\n",
              "                         'randomforestregressor__min_samples_split': [2, 4],\n",
              "                         'randomforestregressor__n_estimators': [100, 300, 500,\n",
              "                                                                 600]})"
            ]
          },
          "metadata": {},
          "execution_count": 114
        }
      ]
    },
    {
      "cell_type": "code",
      "source": [
        "# See which hyperparameters gave the best results\n",
        "rf_gs.best_params_"
      ],
      "metadata": {
        "colab": {
          "base_uri": "https://localhost:8080/"
        },
        "id": "nBL0t5MOUAwW",
        "outputId": "58f00913-3d86-49c9-f542-3d6dd3c5b5bc"
      },
      "execution_count": 115,
      "outputs": [
        {
          "output_type": "execute_result",
          "data": {
            "text/plain": [
              "{'randomforestregressor__max_depth': 3,\n",
              " 'randomforestregressor__min_samples_split': 2,\n",
              " 'randomforestregressor__n_estimators': 600}"
            ]
          },
          "metadata": {},
          "execution_count": 115
        }
      ]
    },
    {
      "cell_type": "code",
      "source": [
        "# Extracting the best version of the model from the gridsearch object\n",
        "best_rf = rf_gs.best_estimator_"
      ],
      "metadata": {
        "id": "g5rOMIHaVdrf"
      },
      "execution_count": 116,
      "outputs": []
    },
    {
      "cell_type": "markdown",
      "source": [
        "#Hypertuned Random Forest Model Evaluation"
      ],
      "metadata": {
        "id": "xPTpqfsXWm7K"
      }
    },
    {
      "cell_type": "code",
      "source": [
        "# Obtaining the evaluation metrics of the tuned model for both the train and the test sets\n",
        "print('RF_GS Training RMSE:', np.sqrt(mean_squared_error(y_train, best_rf.predict(X_train))))\n",
        "print('RF_GS Testing RMSE:', np.sqrt(mean_squared_error(y_test, best_rf.predict(X_test))))\n",
        "print('------')\n",
        "print('RF_GS Training MAE:', np.sqrt(mean_absolute_error(y_train, best_rf.predict(X_train))))\n",
        "print('RF_GS Testing MAE:', np.sqrt(mean_absolute_error(y_test, best_rf.predict(X_test))))\n",
        "print('------')\n",
        "print('RF_GS Training R2:', r2_score(y_train, best_rf.predict(X_train)))\n",
        "print('RF_GS Testing R2:', r2_score(y_test, best_rf.predict(X_test)))"
      ],
      "metadata": {
        "colab": {
          "base_uri": "https://localhost:8080/"
        },
        "id": "9ueiqxSnULTu",
        "outputId": "bce09eb4-f7d4-46de-8da3-9128153f1661"
      },
      "execution_count": 117,
      "outputs": [
        {
          "output_type": "stream",
          "name": "stdout",
          "text": [
            "RF_GS Training RMSE: 0.21924717649978334\n",
            "RF_GS Testing RMSE: 0.25936402429469196\n",
            "------\n",
            "RF_GS Training MAE: 0.3252794026835862\n",
            "RF_GS Testing MAE: 0.3483081794040972\n",
            "------\n",
            "RF_GS Training R2: 0.6998102950546445\n",
            "RF_GS Testing R2: 0.5656202746214216\n"
          ]
        }
      ]
    },
    {
      "cell_type": "markdown",
      "source": [
        "- With an R2 training score of .69 and a test score of .56 is a good fit, but not great."
      ],
      "metadata": {
        "id": "jmX-KPhmHG5B"
      }
    },
    {
      "cell_type": "markdown",
      "source": [
        "#H5 Default KNeighborsRegressor Model"
      ],
      "metadata": {
        "id": "WKoOuq7LW3S3"
      }
    },
    {
      "cell_type": "code",
      "source": [
        "# Instantiate Model\n",
        "knn = KNeighborsRegressor()"
      ],
      "metadata": {
        "id": "m6gekJHQXI7j"
      },
      "execution_count": 118,
      "outputs": []
    },
    {
      "cell_type": "code",
      "source": [
        "# Looking at some hyperparameters that seem tunable\n",
        "knn.get_params()"
      ],
      "metadata": {
        "colab": {
          "base_uri": "https://localhost:8080/"
        },
        "id": "JjcZE7y6XVpm",
        "outputId": "aa61c3ac-f18d-4736-a84f-6c2e0da29b91"
      },
      "execution_count": 119,
      "outputs": [
        {
          "output_type": "execute_result",
          "data": {
            "text/plain": [
              "{'algorithm': 'auto',\n",
              " 'leaf_size': 30,\n",
              " 'metric': 'minkowski',\n",
              " 'metric_params': None,\n",
              " 'n_jobs': None,\n",
              " 'n_neighbors': 5,\n",
              " 'p': 2,\n",
              " 'weights': 'uniform'}"
            ]
          },
          "metadata": {},
          "execution_count": 119
        }
      ]
    },
    {
      "cell_type": "code",
      "source": [
        "# Create and Fit Pipeline\n",
        "knn_pipe = make_pipeline(transformer, knn)\n",
        "knn_pipe.fit(X_train, y_train)"
      ],
      "metadata": {
        "colab": {
          "base_uri": "https://localhost:8080/"
        },
        "id": "ii-r79uMXX_h",
        "outputId": "da3a910c-4264-4158-f462-13e074f822e0"
      },
      "execution_count": 120,
      "outputs": [
        {
          "output_type": "execute_result",
          "data": {
            "text/plain": [
              "Pipeline(steps=[('columntransformer',\n",
              "                 ColumnTransformer(remainder='passthrough',\n",
              "                                   transformers=[('standardscaler',\n",
              "                                                  StandardScaler(),\n",
              "                                                  <sklearn.compose._column_transformer.make_column_selector object at 0x7f07ed0c70d0>),\n",
              "                                                 ('onehotencoder',\n",
              "                                                  OneHotEncoder(handle_unknown='ignore',\n",
              "                                                                sparse=False),\n",
              "                                                  <sklearn.compose._column_transformer.make_column_selector object at 0x7f07ed0c7ad0>)])),\n",
              "                ('kneighborsregressor', KNeighborsRegressor())])"
            ]
          },
          "metadata": {},
          "execution_count": 120
        }
      ]
    },
    {
      "cell_type": "markdown",
      "source": [
        "# Default KNeighborsRegressor Model Evaluation"
      ],
      "metadata": {
        "id": "gjGqLsAGX8BZ"
      }
    },
    {
      "cell_type": "code",
      "source": [
        "# Obtaining evaluation metrics on both the train and test sets.\n",
        "\n",
        "print('KNN Training RMSE:', np.sqrt(mean_squared_error(y_train, knn_pipe.predict(X_train))))\n",
        "print('KNN Testing RMSE:', np.sqrt(mean_squared_error(y_test, knn_pipe.predict(X_test))))\n",
        "print('------')\n",
        "print('KNN Training MAE:', np.sqrt(mean_absolute_error(y_train, knn_pipe.predict(X_train))))\n",
        "print('KNN Testing MAE:', np.sqrt(mean_absolute_error(y_test, knn_pipe.predict(X_test))))\n",
        "print('------')\n",
        "print('KNN Training R2:', r2_score(y_train, knn_pipe.predict(X_train)))\n",
        "print('KNN Testing R2:', r2_score(y_test, knn_pipe.predict(X_test)))"
      ],
      "metadata": {
        "colab": {
          "base_uri": "https://localhost:8080/"
        },
        "id": "VyvWe3ANXnV1",
        "outputId": "f3287b57-e2ab-4377-f29d-a3ebdc872a53"
      },
      "execution_count": 121,
      "outputs": [
        {
          "output_type": "stream",
          "name": "stdout",
          "text": [
            "KNN Training RMSE: 0.22215006043359375\n",
            "KNN Testing RMSE: 0.2835306163179038\n",
            "------\n",
            "KNN Training MAE: 0.3269960350316299\n",
            "KNN Testing MAE: 0.3839304590711675\n",
            "------\n",
            "KNN Training R2: 0.6918085067476136\n",
            "KNN Testing R2: 0.48090123204683133\n"
          ]
        }
      ]
    },
    {
      "cell_type": "markdown",
      "source": [
        "- With a R2 score of .69 and a test score of .48 this data is a good fit but it could be better. "
      ],
      "metadata": {
        "id": "9QPnW51KH6EC"
      }
    },
    {
      "cell_type": "markdown",
      "source": [
        "#H6 Hypertuned KNeighborsRegressor Model"
      ],
      "metadata": {
        "id": "6114ROiUYPk1"
      }
    },
    {
      "cell_type": "code",
      "source": [
        "# Hypertuning the KNeighbors model.\n",
        "knn_pipe.get_params()"
      ],
      "metadata": {
        "colab": {
          "base_uri": "https://localhost:8080/"
        },
        "id": "NZrvg6JPYgCX",
        "outputId": "3504f3d0-7695-4533-b9e8-c3f181e4c92b"
      },
      "execution_count": 122,
      "outputs": [
        {
          "output_type": "execute_result",
          "data": {
            "text/plain": [
              "{'columntransformer': ColumnTransformer(remainder='passthrough',\n",
              "                   transformers=[('standardscaler', StandardScaler(),\n",
              "                                  <sklearn.compose._column_transformer.make_column_selector object at 0x7f07ed0c70d0>),\n",
              "                                 ('onehotencoder',\n",
              "                                  OneHotEncoder(handle_unknown='ignore',\n",
              "                                                sparse=False),\n",
              "                                  <sklearn.compose._column_transformer.make_column_selector object at 0x7f07ed0c7ad0>)]),\n",
              " 'columntransformer__n_jobs': None,\n",
              " 'columntransformer__onehotencoder': OneHotEncoder(handle_unknown='ignore', sparse=False),\n",
              " 'columntransformer__onehotencoder__categories': 'auto',\n",
              " 'columntransformer__onehotencoder__drop': None,\n",
              " 'columntransformer__onehotencoder__dtype': numpy.float64,\n",
              " 'columntransformer__onehotencoder__handle_unknown': 'ignore',\n",
              " 'columntransformer__onehotencoder__sparse': False,\n",
              " 'columntransformer__remainder': 'passthrough',\n",
              " 'columntransformer__sparse_threshold': 0.3,\n",
              " 'columntransformer__standardscaler': StandardScaler(),\n",
              " 'columntransformer__standardscaler__copy': True,\n",
              " 'columntransformer__standardscaler__with_mean': True,\n",
              " 'columntransformer__standardscaler__with_std': True,\n",
              " 'columntransformer__transformer_weights': None,\n",
              " 'columntransformer__transformers': [('standardscaler',\n",
              "   StandardScaler(),\n",
              "   <sklearn.compose._column_transformer.make_column_selector at 0x7f07ed0c70d0>),\n",
              "  ('onehotencoder',\n",
              "   OneHotEncoder(handle_unknown='ignore', sparse=False),\n",
              "   <sklearn.compose._column_transformer.make_column_selector at 0x7f07ed0c7ad0>)],\n",
              " 'columntransformer__verbose': False,\n",
              " 'columntransformer__verbose_feature_names_out': True,\n",
              " 'kneighborsregressor': KNeighborsRegressor(),\n",
              " 'kneighborsregressor__algorithm': 'auto',\n",
              " 'kneighborsregressor__leaf_size': 30,\n",
              " 'kneighborsregressor__metric': 'minkowski',\n",
              " 'kneighborsregressor__metric_params': None,\n",
              " 'kneighborsregressor__n_jobs': None,\n",
              " 'kneighborsregressor__n_neighbors': 5,\n",
              " 'kneighborsregressor__p': 2,\n",
              " 'kneighborsregressor__weights': 'uniform',\n",
              " 'memory': None,\n",
              " 'steps': [('columntransformer', ColumnTransformer(remainder='passthrough',\n",
              "                     transformers=[('standardscaler', StandardScaler(),\n",
              "                                    <sklearn.compose._column_transformer.make_column_selector object at 0x7f07ed0c70d0>),\n",
              "                                   ('onehotencoder',\n",
              "                                    OneHotEncoder(handle_unknown='ignore',\n",
              "                                                  sparse=False),\n",
              "                                    <sklearn.compose._column_transformer.make_column_selector object at 0x7f07ed0c7ad0>)])),\n",
              "  ('kneighborsregressor', KNeighborsRegressor())],\n",
              " 'verbose': False}"
            ]
          },
          "metadata": {},
          "execution_count": 122
        }
      ]
    },
    {
      "cell_type": "code",
      "source": [
        "# Hyperparameter Testing\n",
        "knn_params = {'kneighborsregressor__n_neighbors' : [5, 7, 9, 11],\n",
        "              'kneighborsregressor__leaf_size' : [5, 10, 15]}"
      ],
      "metadata": {
        "id": "1aVHySosY1Z0"
      },
      "execution_count": 123,
      "outputs": []
    },
    {
      "cell_type": "code",
      "source": [
        "# Instantiate the Gridsearch with the KNN pipeline \n",
        "knn_gs = GridSearchCV(knn_pipe, knn_params)\n",
        "\n",
        "knn_gs.fit(X_train, y_train)"
      ],
      "metadata": {
        "colab": {
          "base_uri": "https://localhost:8080/"
        },
        "id": "TdQRDfscY6gA",
        "outputId": "aef96f89-2393-4273-b31b-f7155723e299"
      },
      "execution_count": 124,
      "outputs": [
        {
          "output_type": "execute_result",
          "data": {
            "text/plain": [
              "GridSearchCV(estimator=Pipeline(steps=[('columntransformer',\n",
              "                                        ColumnTransformer(remainder='passthrough',\n",
              "                                                          transformers=[('standardscaler',\n",
              "                                                                         StandardScaler(),\n",
              "                                                                         <sklearn.compose._column_transformer.make_column_selector object at 0x7f07ed0c70d0>),\n",
              "                                                                        ('onehotencoder',\n",
              "                                                                         OneHotEncoder(handle_unknown='ignore',\n",
              "                                                                                       sparse=False),\n",
              "                                                                         <sklearn.compose._column_transformer.make_column_selector object at 0x7f07ed0c7ad0>)])),\n",
              "                                       ('kneighborsregressor',\n",
              "                                        KNeighborsRegressor())]),\n",
              "             param_grid={'kneighborsregressor__leaf_size': [5, 10, 15],\n",
              "                         'kneighborsregressor__n_neighbors': [5, 7, 9, 11]})"
            ]
          },
          "metadata": {},
          "execution_count": 124
        }
      ]
    },
    {
      "cell_type": "code",
      "source": [
        "# See which hyperparameters gave the best results\n",
        "knn_gs.best_params_"
      ],
      "metadata": {
        "colab": {
          "base_uri": "https://localhost:8080/"
        },
        "id": "iINUxMphZIGF",
        "outputId": "eb478e05-0374-4fa5-f85e-6c06a39d40dd"
      },
      "execution_count": 125,
      "outputs": [
        {
          "output_type": "execute_result",
          "data": {
            "text/plain": [
              "{'kneighborsregressor__leaf_size': 5, 'kneighborsregressor__n_neighbors': 5}"
            ]
          },
          "metadata": {},
          "execution_count": 125
        }
      ]
    },
    {
      "cell_type": "code",
      "source": [
        "# Extracting the best version of the model from the gridsearch object\n",
        "best_knn = knn_gs.best_estimator_"
      ],
      "metadata": {
        "id": "ySiKzyH2ZUQi"
      },
      "execution_count": 126,
      "outputs": []
    },
    {
      "cell_type": "markdown",
      "source": [
        "#Hypertuned KNeighborsRegressor Model Evaluation"
      ],
      "metadata": {
        "id": "Tm_G7B0kbLJO"
      }
    },
    {
      "cell_type": "code",
      "source": [
        "# Obtaining the evaluation metrics of the tuned model for both the train and the test sets\n",
        "print('KNN_GS Training RMSE:', np.sqrt(mean_squared_error(y_train, best_knn.predict(X_train))))\n",
        "print('KNN_GS Testing RMSE:', np.sqrt(mean_squared_error(y_test, best_knn.predict(X_test))))\n",
        "print('------')\n",
        "print('KNN_GS Training MAE:', np.sqrt(mean_absolute_error(y_train, best_knn.predict(X_train))))\n",
        "print('KNN_GS Testing MAE:', np.sqrt(mean_absolute_error(y_test, best_knn.predict(X_test))))\n",
        "print('------')\n",
        "print('KNN_GS Training R2:', r2_score(y_train, best_knn.predict(X_train)))\n",
        "print('KNN_GS Testing R2:', r2_score(y_test, best_knn.predict(X_test)))"
      ],
      "metadata": {
        "colab": {
          "base_uri": "https://localhost:8080/"
        },
        "id": "XTmtyae9abuM",
        "outputId": "86849e41-5150-4af7-f9c3-83c3ce6db593"
      },
      "execution_count": 127,
      "outputs": [
        {
          "output_type": "stream",
          "name": "stdout",
          "text": [
            "KNN_GS Training RMSE: 0.22215006043359375\n",
            "KNN_GS Testing RMSE: 0.2835306163179038\n",
            "------\n",
            "KNN_GS Training MAE: 0.3269960350316299\n",
            "KNN_GS Testing MAE: 0.3839304590711675\n",
            "------\n",
            "KNN_GS Training R2: 0.6918085067476136\n",
            "KNN_GS Testing R2: 0.48090123204683133\n"
          ]
        }
      ]
    },
    {
      "cell_type": "markdown",
      "source": [
        "- Even with the hypertuned model with the best parameters, the R2 training and test scores did not change very much. "
      ],
      "metadata": {
        "id": "uZwoXU0mIBWr"
      }
    },
    {
      "cell_type": "markdown",
      "source": [
        "#H7 Default BaggingRegressor Model"
      ],
      "metadata": {
        "id": "KhxT0nyXjHaY"
      }
    },
    {
      "cell_type": "code",
      "source": [
        "# Instantiate Model\n",
        "bagreg = BaggingRegressor(random_state = 42)"
      ],
      "metadata": {
        "id": "oagjuDtfjNuD"
      },
      "execution_count": 128,
      "outputs": []
    },
    {
      "cell_type": "code",
      "source": [
        "# Looking at some hyperparameters that seem tunable\n",
        "bagreg.get_params()"
      ],
      "metadata": {
        "colab": {
          "base_uri": "https://localhost:8080/"
        },
        "id": "amtwhBfdjXeo",
        "outputId": "69ab80ff-ed9c-4415-9033-9013a2f15c60"
      },
      "execution_count": 129,
      "outputs": [
        {
          "output_type": "execute_result",
          "data": {
            "text/plain": [
              "{'base_estimator': None,\n",
              " 'bootstrap': True,\n",
              " 'bootstrap_features': False,\n",
              " 'max_features': 1.0,\n",
              " 'max_samples': 1.0,\n",
              " 'n_estimators': 10,\n",
              " 'n_jobs': None,\n",
              " 'oob_score': False,\n",
              " 'random_state': 42,\n",
              " 'verbose': 0,\n",
              " 'warm_start': False}"
            ]
          },
          "metadata": {},
          "execution_count": 129
        }
      ]
    },
    {
      "cell_type": "code",
      "source": [
        "# Create and Fit Pipeline\n",
        "bagreg_pipe = make_pipeline(transformer, bagreg)\n",
        "bagreg_pipe.fit(X_train, y_train)"
      ],
      "metadata": {
        "colab": {
          "base_uri": "https://localhost:8080/"
        },
        "id": "2Oqx6qkzjZNc",
        "outputId": "911cba68-888a-47f4-c0e0-a8b539385013"
      },
      "execution_count": 130,
      "outputs": [
        {
          "output_type": "execute_result",
          "data": {
            "text/plain": [
              "Pipeline(steps=[('columntransformer',\n",
              "                 ColumnTransformer(remainder='passthrough',\n",
              "                                   transformers=[('standardscaler',\n",
              "                                                  StandardScaler(),\n",
              "                                                  <sklearn.compose._column_transformer.make_column_selector object at 0x7f07ed0c70d0>),\n",
              "                                                 ('onehotencoder',\n",
              "                                                  OneHotEncoder(handle_unknown='ignore',\n",
              "                                                                sparse=False),\n",
              "                                                  <sklearn.compose._column_transformer.make_column_selector object at 0x7f07ed0c7ad0>)])),\n",
              "                ('baggingregressor', BaggingRegressor(random_state=42))])"
            ]
          },
          "metadata": {},
          "execution_count": 130
        }
      ]
    },
    {
      "cell_type": "markdown",
      "source": [
        "# Default BaggingRegressor Model Evaluation"
      ],
      "metadata": {
        "id": "LYdo-kZWjfVx"
      }
    },
    {
      "cell_type": "code",
      "source": [
        "# Obtaining evaluation metrics on both the train and test sets.\n",
        "print('BAGREG Training RMSE:', np.sqrt(mean_squared_error(y_train, bagreg_pipe.predict(X_train))))\n",
        "print('BAGREG Testing RMSE:', np.sqrt(mean_squared_error(y_test, bagreg_pipe.predict(X_test))))\n",
        "print('------')\n",
        "print('BAGREG Training MAE:', np.sqrt(mean_absolute_error(y_train, bagreg_pipe.predict(X_train))))\n",
        "print('BAGREG Testing MAE:', np.sqrt(mean_absolute_error(y_test, bagreg_pipe.predict(X_test))))\n",
        "print('------')\n",
        "print('BAGREG Training R2:', r2_score(y_train, bagreg_pipe.predict(X_train)))\n",
        "print('BAGREG Testing R2:', r2_score(y_test, bagreg_pipe.predict(X_test)))"
      ],
      "metadata": {
        "colab": {
          "base_uri": "https://localhost:8080/"
        },
        "id": "RmPlwOwLjb3h",
        "outputId": "2503e0a3-ab47-4d06-f669-d9925e79bdc0"
      },
      "execution_count": 131,
      "outputs": [
        {
          "output_type": "stream",
          "name": "stdout",
          "text": [
            "BAGREG Training RMSE: 0.10999803225315942\n",
            "BAGREG Testing RMSE: 0.27261361267952455\n",
            "------\n",
            "BAGREG Training MAE: 0.2091003197581097\n",
            "BAGREG Testing MAE: 0.3461288702278312\n",
            "------\n",
            "BAGREG Training R2: 0.9244390154701386\n",
            "BAGREG Testing R2: 0.5201061874617112\n"
          ]
        }
      ]
    },
    {
      "cell_type": "markdown",
      "source": [
        "- With the R2 training score at .92 and a test score of .52 this model has high variance and is overfit. "
      ],
      "metadata": {
        "id": "nn8mx32PIJa8"
      }
    },
    {
      "cell_type": "markdown",
      "source": [
        "#H8 Hypertuned BaggingRegressor Model"
      ],
      "metadata": {
        "id": "lumV4O7Ajm2G"
      }
    },
    {
      "cell_type": "code",
      "source": [
        "# Hypertuning the bagging regressor model.\n",
        "bagreg_pipe.get_params()"
      ],
      "metadata": {
        "colab": {
          "base_uri": "https://localhost:8080/"
        },
        "id": "7Ax35a_djrRt",
        "outputId": "bdc84718-ee68-4462-e247-2e01fb372d16"
      },
      "execution_count": 132,
      "outputs": [
        {
          "output_type": "execute_result",
          "data": {
            "text/plain": [
              "{'baggingregressor': BaggingRegressor(random_state=42),\n",
              " 'baggingregressor__base_estimator': None,\n",
              " 'baggingregressor__bootstrap': True,\n",
              " 'baggingregressor__bootstrap_features': False,\n",
              " 'baggingregressor__max_features': 1.0,\n",
              " 'baggingregressor__max_samples': 1.0,\n",
              " 'baggingregressor__n_estimators': 10,\n",
              " 'baggingregressor__n_jobs': None,\n",
              " 'baggingregressor__oob_score': False,\n",
              " 'baggingregressor__random_state': 42,\n",
              " 'baggingregressor__verbose': 0,\n",
              " 'baggingregressor__warm_start': False,\n",
              " 'columntransformer': ColumnTransformer(remainder='passthrough',\n",
              "                   transformers=[('standardscaler', StandardScaler(),\n",
              "                                  <sklearn.compose._column_transformer.make_column_selector object at 0x7f07ed0c70d0>),\n",
              "                                 ('onehotencoder',\n",
              "                                  OneHotEncoder(handle_unknown='ignore',\n",
              "                                                sparse=False),\n",
              "                                  <sklearn.compose._column_transformer.make_column_selector object at 0x7f07ed0c7ad0>)]),\n",
              " 'columntransformer__n_jobs': None,\n",
              " 'columntransformer__onehotencoder': OneHotEncoder(handle_unknown='ignore', sparse=False),\n",
              " 'columntransformer__onehotencoder__categories': 'auto',\n",
              " 'columntransformer__onehotencoder__drop': None,\n",
              " 'columntransformer__onehotencoder__dtype': numpy.float64,\n",
              " 'columntransformer__onehotencoder__handle_unknown': 'ignore',\n",
              " 'columntransformer__onehotencoder__sparse': False,\n",
              " 'columntransformer__remainder': 'passthrough',\n",
              " 'columntransformer__sparse_threshold': 0.3,\n",
              " 'columntransformer__standardscaler': StandardScaler(),\n",
              " 'columntransformer__standardscaler__copy': True,\n",
              " 'columntransformer__standardscaler__with_mean': True,\n",
              " 'columntransformer__standardscaler__with_std': True,\n",
              " 'columntransformer__transformer_weights': None,\n",
              " 'columntransformer__transformers': [('standardscaler',\n",
              "   StandardScaler(),\n",
              "   <sklearn.compose._column_transformer.make_column_selector at 0x7f07ed0c70d0>),\n",
              "  ('onehotencoder',\n",
              "   OneHotEncoder(handle_unknown='ignore', sparse=False),\n",
              "   <sklearn.compose._column_transformer.make_column_selector at 0x7f07ed0c7ad0>)],\n",
              " 'columntransformer__verbose': False,\n",
              " 'columntransformer__verbose_feature_names_out': True,\n",
              " 'memory': None,\n",
              " 'steps': [('columntransformer', ColumnTransformer(remainder='passthrough',\n",
              "                     transformers=[('standardscaler', StandardScaler(),\n",
              "                                    <sklearn.compose._column_transformer.make_column_selector object at 0x7f07ed0c70d0>),\n",
              "                                   ('onehotencoder',\n",
              "                                    OneHotEncoder(handle_unknown='ignore',\n",
              "                                                  sparse=False),\n",
              "                                    <sklearn.compose._column_transformer.make_column_selector object at 0x7f07ed0c7ad0>)])),\n",
              "  ('baggingregressor', BaggingRegressor(random_state=42))],\n",
              " 'verbose': False}"
            ]
          },
          "metadata": {},
          "execution_count": 132
        }
      ]
    },
    {
      "cell_type": "code",
      "source": [
        "# Hyperparameter Testing\n",
        "bagreg_params = {'baggingregressor__n_estimators' : [25, 30, 35, 40],\n",
        "              'baggingregressor__max_features' : [5, 6, 7, 8, 9, 10],\n",
        "              'baggingregressor__max_samples' : [5, 10, 15, 20, 25]}"
      ],
      "metadata": {
        "id": "VyL5GugZj46u"
      },
      "execution_count": 133,
      "outputs": []
    },
    {
      "cell_type": "code",
      "source": [
        "# Instantiate the Gridsearch with the BAGREG pipeline \n",
        "bagreg_gs = GridSearchCV(bagreg_pipe, bagreg_params)\n",
        "\n",
        "bagreg_gs.fit(X_train, y_train)"
      ],
      "metadata": {
        "colab": {
          "base_uri": "https://localhost:8080/"
        },
        "id": "jIN7v2FBj6iv",
        "outputId": "0c3227ca-5613-4c7c-b68a-f0a85a667b30"
      },
      "execution_count": 134,
      "outputs": [
        {
          "output_type": "execute_result",
          "data": {
            "text/plain": [
              "GridSearchCV(estimator=Pipeline(steps=[('columntransformer',\n",
              "                                        ColumnTransformer(remainder='passthrough',\n",
              "                                                          transformers=[('standardscaler',\n",
              "                                                                         StandardScaler(),\n",
              "                                                                         <sklearn.compose._column_transformer.make_column_selector object at 0x7f07ed0c70d0>),\n",
              "                                                                        ('onehotencoder',\n",
              "                                                                         OneHotEncoder(handle_unknown='ignore',\n",
              "                                                                                       sparse=False),\n",
              "                                                                         <sklearn.compose._column_transformer.make_column_selector object at 0x7f07ed0c7ad0>)])),\n",
              "                                       ('baggingregressor',\n",
              "                                        BaggingRegressor(random_state=42))]),\n",
              "             param_grid={'baggingregressor__max_features': [5, 6, 7, 8, 9, 10],\n",
              "                         'baggingregressor__max_samples': [5, 10, 15, 20, 25],\n",
              "                         'baggingregressor__n_estimators': [25, 30, 35, 40]})"
            ]
          },
          "metadata": {},
          "execution_count": 134
        }
      ]
    },
    {
      "cell_type": "code",
      "source": [
        "# See which hyperparameters gave the best results\n",
        "bagreg_gs.best_params_"
      ],
      "metadata": {
        "colab": {
          "base_uri": "https://localhost:8080/"
        },
        "id": "25SNz_ONj88g",
        "outputId": "b3297a5f-9185-45d8-c5bd-be4c07e1cbea"
      },
      "execution_count": 135,
      "outputs": [
        {
          "output_type": "execute_result",
          "data": {
            "text/plain": [
              "{'baggingregressor__max_features': 10,\n",
              " 'baggingregressor__max_samples': 20,\n",
              " 'baggingregressor__n_estimators': 25}"
            ]
          },
          "metadata": {},
          "execution_count": 135
        }
      ]
    },
    {
      "cell_type": "code",
      "source": [
        "# Extracting the best version of the model from the gridsearch object\n",
        "best_bagreg = bagreg_gs.best_estimator_"
      ],
      "metadata": {
        "id": "BGvfO_Qsj-kz"
      },
      "execution_count": 136,
      "outputs": []
    },
    {
      "cell_type": "markdown",
      "source": [
        "#Hypertuned BaggingRegressor Model Evaluation"
      ],
      "metadata": {
        "id": "XlFV-uDBj-3G"
      }
    },
    {
      "cell_type": "code",
      "source": [
        "# Obtaining the evaluation metrics of the tuned model for both the train and the test sets\n",
        "print('BAGREG_GS Training RMSE:', np.sqrt(mean_squared_error(y_train, best_bagreg.predict(X_train))))\n",
        "print('BAGREG_GS Testing RMSE:', np.sqrt(mean_squared_error(y_test, best_bagreg.predict(X_test))))\n",
        "print('------')\n",
        "print('BAGREG_GS Training MAE:', np.sqrt(mean_absolute_error(y_train, best_bagreg.predict(X_train))))\n",
        "print('BAGREG_GS Testing MAE:', np.sqrt(mean_absolute_error(y_test, best_bagreg.predict(X_test))))\n",
        "print('------')\n",
        "print('BAGREG_GS Training R2:', r2_score(y_train, best_bagreg.predict(X_train)))\n",
        "print('BAGREG_GS Testing R2:', r2_score(y_test, best_bagreg.predict(X_test)))"
      ],
      "metadata": {
        "colab": {
          "base_uri": "https://localhost:8080/"
        },
        "id": "f507V0nIkMwV",
        "outputId": "d7310b0d-7415-461d-bb56-7b395fa5ef81"
      },
      "execution_count": 137,
      "outputs": [
        {
          "output_type": "stream",
          "name": "stdout",
          "text": [
            "BAGREG_GS Training RMSE: 0.24481462197793483\n",
            "BAGREG_GS Testing RMSE: 0.27544533009315997\n",
            "------\n",
            "BAGREG_GS Training MAE: 0.3452836214198108\n",
            "BAGREG_GS Testing MAE: 0.36055512754639896\n",
            "------\n",
            "BAGREG_GS Training R2: 0.6257149486157335\n",
            "BAGREG_GS Testing R2: 0.5100848138315976\n"
          ]
        }
      ]
    },
    {
      "cell_type": "markdown",
      "source": [
        "- With an R2 score of training score of .62 and a test score of .51 this data is a good fit, but not great. "
      ],
      "metadata": {
        "id": "VIvdhzOnL4RN"
      }
    },
    {
      "cell_type": "markdown",
      "source": [
        "#H10 Default DecisionTree Model"
      ],
      "metadata": {
        "id": "WOaKGbxauEoC"
      }
    },
    {
      "cell_type": "code",
      "source": [
        "# Instantiate Model\n",
        "dectree = DecisionTreeRegressor(random_state=42)"
      ],
      "metadata": {
        "id": "-yuVdxODDW3E"
      },
      "execution_count": 138,
      "outputs": []
    },
    {
      "cell_type": "code",
      "source": [
        "# Looking at some hyperparameters that seem tunable\n",
        "dectree.get_params()"
      ],
      "metadata": {
        "colab": {
          "base_uri": "https://localhost:8080/"
        },
        "id": "aoEsYHVcDejr",
        "outputId": "4ccf7e69-48e5-4913-cb08-5259e1429535"
      },
      "execution_count": 139,
      "outputs": [
        {
          "output_type": "execute_result",
          "data": {
            "text/plain": [
              "{'ccp_alpha': 0.0,\n",
              " 'criterion': 'squared_error',\n",
              " 'max_depth': None,\n",
              " 'max_features': None,\n",
              " 'max_leaf_nodes': None,\n",
              " 'min_impurity_decrease': 0.0,\n",
              " 'min_samples_leaf': 1,\n",
              " 'min_samples_split': 2,\n",
              " 'min_weight_fraction_leaf': 0.0,\n",
              " 'random_state': 42,\n",
              " 'splitter': 'best'}"
            ]
          },
          "metadata": {},
          "execution_count": 139
        }
      ]
    },
    {
      "cell_type": "code",
      "source": [
        "# Create and Fit Pipeline\n",
        "dectree_pipe = make_pipeline(transformer, dectree)\n",
        "dectree_pipe.fit(X_train, y_train)"
      ],
      "metadata": {
        "colab": {
          "base_uri": "https://localhost:8080/"
        },
        "id": "ZIlJ8GqyDnza",
        "outputId": "86a15b4c-688c-46bb-ef8f-1ed1c4a982d7"
      },
      "execution_count": 140,
      "outputs": [
        {
          "output_type": "execute_result",
          "data": {
            "text/plain": [
              "Pipeline(steps=[('columntransformer',\n",
              "                 ColumnTransformer(remainder='passthrough',\n",
              "                                   transformers=[('standardscaler',\n",
              "                                                  StandardScaler(),\n",
              "                                                  <sklearn.compose._column_transformer.make_column_selector object at 0x7f07ed0c70d0>),\n",
              "                                                 ('onehotencoder',\n",
              "                                                  OneHotEncoder(handle_unknown='ignore',\n",
              "                                                                sparse=False),\n",
              "                                                  <sklearn.compose._column_transformer.make_column_selector object at 0x7f07ed0c7ad0>)])),\n",
              "                ('decisiontreeregressor',\n",
              "                 DecisionTreeRegressor(random_state=42))])"
            ]
          },
          "metadata": {},
          "execution_count": 140
        }
      ]
    },
    {
      "cell_type": "markdown",
      "source": [
        "#Default DecisionTree Model Evaluation"
      ],
      "metadata": {
        "id": "XWk0K8WYDwKY"
      }
    },
    {
      "cell_type": "code",
      "source": [
        "# Obtaining evaluation metrics on both the train and test sets.\n",
        "print('DECTREE Training RMSE:', np.sqrt(mean_squared_error(y_train, dectree_pipe.predict(X_train))))\n",
        "print('DECTREE Testing RMSE:', np.sqrt(mean_squared_error(y_test, dectree_pipe.predict(X_test))))\n",
        "print('------')\n",
        "print('DECTREE Training MAE:', np.sqrt(mean_absolute_error(y_train, dectree_pipe.predict(X_train))))\n",
        "print('DECTREE Testing MAE:', np.sqrt(mean_absolute_error(y_test, dectree_pipe.predict(X_test))))\n",
        "print('------')\n",
        "print('DECTREE Training R2:', r2_score(y_train, dectree_pipe.predict(X_train)))\n",
        "print('DECTREE Testing R2:', r2_score(y_test, dectree_pipe.predict(X_test)))"
      ],
      "metadata": {
        "colab": {
          "base_uri": "https://localhost:8080/"
        },
        "id": "zq-zzTefDzvO",
        "outputId": "99993079-4063-46ed-e05b-c9d33f916c84"
      },
      "execution_count": 141,
      "outputs": [
        {
          "output_type": "stream",
          "name": "stdout",
          "text": [
            "DECTREE Training RMSE: 0.0\n",
            "DECTREE Testing RMSE: 0.34188172937891387\n",
            "------\n",
            "DECTREE Training MAE: 0.0\n",
            "DECTREE Testing MAE: 0.34188172937891387\n",
            "------\n",
            "DECTREE Training R2: 1.0\n",
            "DECTREE Testing R2: 0.24525219522156416\n"
          ]
        }
      ]
    },
    {
      "cell_type": "markdown",
      "source": [
        "- With the R2 training score being 1.0 and the test score .24 this data has a very high variance and is overfit. "
      ],
      "metadata": {
        "id": "VmuDcwRqM07e"
      }
    },
    {
      "cell_type": "markdown",
      "source": [
        "#H11 Hypertuned Decision Tree Model"
      ],
      "metadata": {
        "id": "pHGvCp8CD0iy"
      }
    },
    {
      "cell_type": "code",
      "source": [
        "# Hypertuning the bagging regressor model.\n",
        "dectree_pipe.get_params()"
      ],
      "metadata": {
        "colab": {
          "base_uri": "https://localhost:8080/"
        },
        "id": "rqVFKUGkD4lv",
        "outputId": "875b8e65-7a4e-4d36-b8a6-abb495128379"
      },
      "execution_count": 142,
      "outputs": [
        {
          "output_type": "execute_result",
          "data": {
            "text/plain": [
              "{'columntransformer': ColumnTransformer(remainder='passthrough',\n",
              "                   transformers=[('standardscaler', StandardScaler(),\n",
              "                                  <sklearn.compose._column_transformer.make_column_selector object at 0x7f07ed0c70d0>),\n",
              "                                 ('onehotencoder',\n",
              "                                  OneHotEncoder(handle_unknown='ignore',\n",
              "                                                sparse=False),\n",
              "                                  <sklearn.compose._column_transformer.make_column_selector object at 0x7f07ed0c7ad0>)]),\n",
              " 'columntransformer__n_jobs': None,\n",
              " 'columntransformer__onehotencoder': OneHotEncoder(handle_unknown='ignore', sparse=False),\n",
              " 'columntransformer__onehotencoder__categories': 'auto',\n",
              " 'columntransformer__onehotencoder__drop': None,\n",
              " 'columntransformer__onehotencoder__dtype': numpy.float64,\n",
              " 'columntransformer__onehotencoder__handle_unknown': 'ignore',\n",
              " 'columntransformer__onehotencoder__sparse': False,\n",
              " 'columntransformer__remainder': 'passthrough',\n",
              " 'columntransformer__sparse_threshold': 0.3,\n",
              " 'columntransformer__standardscaler': StandardScaler(),\n",
              " 'columntransformer__standardscaler__copy': True,\n",
              " 'columntransformer__standardscaler__with_mean': True,\n",
              " 'columntransformer__standardscaler__with_std': True,\n",
              " 'columntransformer__transformer_weights': None,\n",
              " 'columntransformer__transformers': [('standardscaler',\n",
              "   StandardScaler(),\n",
              "   <sklearn.compose._column_transformer.make_column_selector at 0x7f07ed0c70d0>),\n",
              "  ('onehotencoder',\n",
              "   OneHotEncoder(handle_unknown='ignore', sparse=False),\n",
              "   <sklearn.compose._column_transformer.make_column_selector at 0x7f07ed0c7ad0>)],\n",
              " 'columntransformer__verbose': False,\n",
              " 'columntransformer__verbose_feature_names_out': True,\n",
              " 'decisiontreeregressor': DecisionTreeRegressor(random_state=42),\n",
              " 'decisiontreeregressor__ccp_alpha': 0.0,\n",
              " 'decisiontreeregressor__criterion': 'squared_error',\n",
              " 'decisiontreeregressor__max_depth': None,\n",
              " 'decisiontreeregressor__max_features': None,\n",
              " 'decisiontreeregressor__max_leaf_nodes': None,\n",
              " 'decisiontreeregressor__min_impurity_decrease': 0.0,\n",
              " 'decisiontreeregressor__min_samples_leaf': 1,\n",
              " 'decisiontreeregressor__min_samples_split': 2,\n",
              " 'decisiontreeregressor__min_weight_fraction_leaf': 0.0,\n",
              " 'decisiontreeregressor__random_state': 42,\n",
              " 'decisiontreeregressor__splitter': 'best',\n",
              " 'memory': None,\n",
              " 'steps': [('columntransformer', ColumnTransformer(remainder='passthrough',\n",
              "                     transformers=[('standardscaler', StandardScaler(),\n",
              "                                    <sklearn.compose._column_transformer.make_column_selector object at 0x7f07ed0c70d0>),\n",
              "                                   ('onehotencoder',\n",
              "                                    OneHotEncoder(handle_unknown='ignore',\n",
              "                                                  sparse=False),\n",
              "                                    <sklearn.compose._column_transformer.make_column_selector object at 0x7f07ed0c7ad0>)])),\n",
              "  ('decisiontreeregressor', DecisionTreeRegressor(random_state=42))],\n",
              " 'verbose': False}"
            ]
          },
          "metadata": {},
          "execution_count": 142
        }
      ]
    },
    {
      "cell_type": "code",
      "source": [
        "# Hyperparameter Testing\n",
        "dectree_params = {'decisiontreeregressor__max_depth' : [None, 1, 2, 3, 4, 5],\n",
        "              'decisiontreeregressor__min_samples_leaf' : [1, 2, 3, 4, 5],\n",
        "              'decisiontreeregressor__min_samples_split' : [2, 3, 4, 5, 6]}"
      ],
      "metadata": {
        "id": "xnyPzqm5D8sT"
      },
      "execution_count": 143,
      "outputs": []
    },
    {
      "cell_type": "code",
      "source": [
        "# Instantiate the Gridsearch with the BAGREG pipeline \n",
        "dectree_gs = GridSearchCV(dectree_pipe, dectree_params)\n",
        "\n",
        "dectree_gs.fit(X_train, y_train)"
      ],
      "metadata": {
        "colab": {
          "base_uri": "https://localhost:8080/"
        },
        "id": "HYyNU_kbEBTg",
        "outputId": "d15445fa-daa8-45c1-8a64-32012674db87"
      },
      "execution_count": 144,
      "outputs": [
        {
          "output_type": "execute_result",
          "data": {
            "text/plain": [
              "GridSearchCV(estimator=Pipeline(steps=[('columntransformer',\n",
              "                                        ColumnTransformer(remainder='passthrough',\n",
              "                                                          transformers=[('standardscaler',\n",
              "                                                                         StandardScaler(),\n",
              "                                                                         <sklearn.compose._column_transformer.make_column_selector object at 0x7f07ed0c70d0>),\n",
              "                                                                        ('onehotencoder',\n",
              "                                                                         OneHotEncoder(handle_unknown='ignore',\n",
              "                                                                                       sparse=False),\n",
              "                                                                         <sklearn.compose._column_transformer.make_column_selector object at 0x7f07ed0c7ad0>)])),\n",
              "                                       ('decisiontreeregressor',\n",
              "                                        DecisionTreeRegressor(random_state=42))]),\n",
              "             param_grid={'decisiontreeregressor__max_depth': [None, 1, 2, 3, 4,\n",
              "                                                              5],\n",
              "                         'decisiontreeregressor__min_samples_leaf': [1, 2, 3, 4,\n",
              "                                                                     5],\n",
              "                         'decisiontreeregressor__min_samples_split': [2, 3, 4,\n",
              "                                                                      5, 6]})"
            ]
          },
          "metadata": {},
          "execution_count": 144
        }
      ]
    },
    {
      "cell_type": "code",
      "source": [
        "# See which hyperparameters gave the best results\n",
        "dectree_gs.best_params_"
      ],
      "metadata": {
        "colab": {
          "base_uri": "https://localhost:8080/"
        },
        "id": "Y4qpj8CEEHB1",
        "outputId": "5a4f5638-c544-49e9-9189-34fea880e969"
      },
      "execution_count": 145,
      "outputs": [
        {
          "output_type": "execute_result",
          "data": {
            "text/plain": [
              "{'decisiontreeregressor__max_depth': 2,\n",
              " 'decisiontreeregressor__min_samples_leaf': 1,\n",
              " 'decisiontreeregressor__min_samples_split': 2}"
            ]
          },
          "metadata": {},
          "execution_count": 145
        }
      ]
    },
    {
      "cell_type": "code",
      "source": [
        "# Extracting the best version of the model from the gridsearch object\n",
        "best_dectree = dectree_gs.best_estimator_"
      ],
      "metadata": {
        "id": "OuRcC5h_EHf7"
      },
      "execution_count": 146,
      "outputs": []
    },
    {
      "cell_type": "markdown",
      "source": [
        "#Hypertuned DecisionTree Model Evaluation"
      ],
      "metadata": {
        "id": "joU6BYOdENkl"
      }
    },
    {
      "cell_type": "code",
      "source": [
        "# Obtaining the evaluation metrics of the tuned model for both the train and the test sets\n",
        "print('DECTREE_GS Training RMSE:', np.sqrt(mean_squared_error(y_train, best_dectree.predict(X_train))))\n",
        "print('DECTREE_GS Testing RMSE:', np.sqrt(mean_squared_error(y_test, best_dectree.predict(X_test))))\n",
        "print('------')\n",
        "print('DECTREE_GS Training MAE:', np.sqrt(mean_absolute_error(y_train, best_dectree.predict(X_train))))\n",
        "print('DECTREE_GS Testing MAE:', np.sqrt(mean_absolute_error(y_test, best_dectree.predict(X_test))))\n",
        "print('------')\n",
        "print('DECTREE_GS Training R2:', r2_score(y_train, best_dectree.predict(X_train)))\n",
        "print('DECTREE_GS Testing R2:', r2_score(y_test, best_dectree.predict(X_test)))"
      ],
      "metadata": {
        "colab": {
          "base_uri": "https://localhost:8080/"
        },
        "id": "BH-UyG3vEN3V",
        "outputId": "ac220650-da6b-4dae-da16-cc91cacb9df8"
      },
      "execution_count": 147,
      "outputs": [
        {
          "output_type": "stream",
          "name": "stdout",
          "text": [
            "DECTREE_GS Training RMSE: 0.24573621425166406\n",
            "DECTREE_GS Testing RMSE: 0.27610234305612574\n",
            "------\n",
            "DECTREE_GS Training MAE: 0.347523486960924\n",
            "DECTREE_GS Testing MAE: 0.3654821423817536\n",
            "------\n",
            "DECTREE_GS Training R2: 0.6228916902664601\n",
            "DECTREE_GS Testing R2: 0.5077448611816449\n"
          ]
        }
      ]
    },
    {
      "cell_type": "markdown",
      "source": [
        "- With a R2 training score of .62 and a test score of .50 this data is a good fit but not great. "
      ],
      "metadata": {
        "id": "YuKm5WSkM_qA"
      }
    },
    {
      "cell_type": "markdown",
      "source": [
        "#H12 Final Scores Compared"
      ],
      "metadata": {
        "id": "3YyyUDm9A-Rf"
      }
    },
    {
      "cell_type": "markdown",
      "source": [
        "Default Random Forest Model Evaluation:\n",
        "\n",
        "- RF Training RMSE: 0.09532412240187849\n",
        "- RF Testing RMSE: 0.2580364164372777\n",
        "------\n",
        "- RF Training MAE: 0.20667958345334989\n",
        "- RF Testing MAE: 0.3370517706583013\n",
        "------\n",
        "- RF Training R2: 0.9432542413049043\n",
        "- RF Testing R2: 0.5700558164862841"
      ],
      "metadata": {
        "id": "lGibE6auBBEF"
      }
    },
    {
      "cell_type": "markdown",
      "source": [
        "Hypertuned Random Forest Model Evaluation:\n",
        "\n",
        "- RF_GS Training RMSE: 0.21924717649978334\n",
        "- RF_GS Testing RMSE: 0.25936402429469196\n",
        "------\n",
        "- RF_GS Training MAE: 0.3252794026835862\n",
        "- RF_GS Testing MAE: 0.3483081794040972\n",
        "------\n",
        "- RF_GS Training R2: 0.6998102950546445\n",
        "- RF_GS Testing R2: 0.5656202746214216\n"
      ],
      "metadata": {
        "id": "HsvSWKXvBJGm"
      }
    },
    {
      "cell_type": "markdown",
      "source": [
        "Default KNeighborsRegressor Model Evaluation:\n",
        "\n",
        "- KNN Training RMSE: 0.22215006043359375\n",
        "- KNN Testing RMSE: 0.2835306163179038\n",
        "------\n",
        "- KNN Training MAE: 0.3269960350316299\n",
        "- KNN Testing MAE: 0.3839304590711675\n",
        "------\n",
        "- KNN Training R2: 0.6918085067476136\n",
        "- KNN Testing R2: 0.48090123204683133\n",
        "\n"
      ],
      "metadata": {
        "id": "oFIJjkemBkar"
      }
    },
    {
      "cell_type": "markdown",
      "source": [
        "Hypertuned KNeighborsRegressor Model Evaluation:\n",
        "\n",
        "- KNN_GS Training RMSE: 0.22215006043359375\n",
        "- KNN_GS Testing RMSE: 0.2835306163179038\n",
        "------\n",
        "- KNN_GS Training MAE: 0.3269960350316299\n",
        "- KNN_GS Testing MAE: 0.3839304590711675\n",
        "------\n",
        "- KNN_GS Training R2: 0.6918085067476136\n",
        "- KNN_GS Testing R2: 0.48090123204683133"
      ],
      "metadata": {
        "id": "oX-jRjWtBpXv"
      }
    },
    {
      "cell_type": "markdown",
      "source": [
        "Default BaggingRegressor Model Evaluation:\n",
        "\n",
        "- BAGREG Training RMSE: 0.10999803225315942\n",
        "- BAGREG Testing RMSE: 0.27261361267952455\n",
        "------\n",
        "- BAGREG Training MAE: 0.2091003197581097\n",
        "- BAGREG Testing MAE: 0.3461288702278312\n",
        "------\n",
        "- BAGREG Training R2: 0.9244390154701386\n",
        "- BAGREG Testing R2: 0.5201061874617112"
      ],
      "metadata": {
        "id": "EvOWtLZEBuwL"
      }
    },
    {
      "cell_type": "markdown",
      "source": [
        "Hypertuned BaggingRegressor Model Evaluation:\n",
        "\n",
        "- BAGREG_GS Training RMSE: 0.24481462197793483\n",
        "- BAGREG_GS Testing RMSE: 0.27544533009315997\n",
        "------\n",
        "- BAGREG_GS Training MAE: 0.3452836214198108\n",
        "- BAGREG_GS Testing MAE: 0.36055512754639896\n",
        "------\n",
        "- BAGREG_GS Training R2: 0.6257149486157335\n",
        "- BAGREG_GS Testing R2: 0.5100848138315976"
      ],
      "metadata": {
        "id": "dckBy-RlByeJ"
      }
    },
    {
      "cell_type": "markdown",
      "source": [
        "Default DecisionTree Model Evaluation:\n",
        "\n",
        "- DECTREE Training RMSE: 0.0\n",
        "- DECTREE Testing RMSE: 0.34188172937891387\n",
        "------\n",
        "- DECTREE Training MAE: 0.0\n",
        "- DECTREE Testing MAE: 0.34188172937891387\n",
        "------\n",
        "- DECTREE Training R2: 1.0\n",
        "- DECTREE Testing R2: 0.24525219522156416"
      ],
      "metadata": {
        "id": "CKUrdBxZGq8J"
      }
    },
    {
      "cell_type": "markdown",
      "source": [
        "Hypertuned DecisionTree Model Evaluation:\n",
        "\n",
        "- DECTREE_GS Training RMSE: 0.24573621425166406\n",
        "- DECTREE_GS Testing RMSE: 0.27610234305612574\n",
        "------\n",
        "- DECTREE_GS Training MAE: 0.347523486960924\n",
        "- DECTREE_GS Testing MAE: 0.3654821423817536\n",
        "------\n",
        "- DECTREE_GS Training R2: 0.6228916902664601\n",
        "- DECTREE_GS Testing R2: 0.5077448611816449"
      ],
      "metadata": {
        "id": "e4YMiXxtGw5K"
      }
    },
    {
      "cell_type": "markdown",
      "source": [
        "#H13 Final Evaluation:\n",
        "\n",
        "- After evaluating all of the models the model with the best fit for the data is the Hypertuned Random Forest Model with the following scores:\n",
        "\n",
        "Hypertuned Random Forest Model Evaluation:\n",
        "\n",
        "- RF_GS Training RMSE: 0.21924717649978334\n",
        "- RF_GS Testing RMSE: 0.25936402429469196\n",
        "------\n",
        "- RF_GS Training MAE: 0.3252794026835862\n",
        "- RF_GS Testing MAE: 0.3483081794040972\n",
        "------\n",
        "- RF_GS Training R2: 0.6998102950546445\n",
        "- RF_GS Testing R2: 0.5656202746214216\n",
        "\n",
        "\n",
        "- The hyperparamters for this data are \n",
        " - max_depth: 3\n",
        " - min_samples_split: 2\n",
        " - n_estimators: 600\n",
        "\n",
        "\n",
        "- I have decided to use this model as my final 'production' model due to the fact that the R2 training and test score ended up being a good fit for the data and was not overfit so this model would yield the most accurate predictions for whether or not a team would make the playoffs. "
      ],
      "metadata": {
        "id": "bgwrA6FXNXBp"
      }
    }
  ]
}